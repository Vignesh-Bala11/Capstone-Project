{
 "cells": [
  {
   "cell_type": "code",
   "execution_count": 1,
   "metadata": {},
   "outputs": [],
   "source": [
    "%matplotlib inline\n",
    "import matplotlib.pyplot as plt\n",
    "import pandas as pd\n",
    "import os\n",
    "import numpy as np\n",
    "from pathlib import Path\n",
    "from sklearn.preprocessing import StandardScaler\n",
    "from sklearn import linear_model\n",
    "import statsmodels.api as sm\n",
    "from sklearn.linear_model import LinearRegression"
   ]
  },
  {
   "cell_type": "code",
   "execution_count": 26,
   "metadata": {},
   "outputs": [
    {
     "name": "stdout",
     "output_type": "stream",
     "text": [
      "(4297, 14)\n"
     ]
    },
    {
     "data": {
      "text/html": [
       "<div>\n",
       "<style scoped>\n",
       "    .dataframe tbody tr th:only-of-type {\n",
       "        vertical-align: middle;\n",
       "    }\n",
       "\n",
       "    .dataframe tbody tr th {\n",
       "        vertical-align: top;\n",
       "    }\n",
       "\n",
       "    .dataframe thead th {\n",
       "        text-align: right;\n",
       "    }\n",
       "</style>\n",
       "<table border=\"1\" class=\"dataframe\">\n",
       "  <thead>\n",
       "    <tr style=\"text-align: right;\">\n",
       "      <th></th>\n",
       "      <th>Unnamed: 0</th>\n",
       "      <th>resultId</th>\n",
       "      <th>raceId</th>\n",
       "      <th>name</th>\n",
       "      <th>year</th>\n",
       "      <th>circuitId</th>\n",
       "      <th>driverId</th>\n",
       "      <th>constructorId</th>\n",
       "      <th>starting_position</th>\n",
       "      <th>finishing_status</th>\n",
       "      <th>firstlap_position</th>\n",
       "      <th>lap</th>\n",
       "      <th>train_test</th>\n",
       "      <th>ending_position</th>\n",
       "    </tr>\n",
       "  </thead>\n",
       "  <tbody>\n",
       "    <tr>\n",
       "      <th>0</th>\n",
       "      <td>20323</td>\n",
       "      <td>20323</td>\n",
       "      <td>337</td>\n",
       "      <td>Bahrain Grand Prix</td>\n",
       "      <td>2010</td>\n",
       "      <td>3</td>\n",
       "      <td>4</td>\n",
       "      <td>6</td>\n",
       "      <td>3</td>\n",
       "      <td>1</td>\n",
       "      <td>2</td>\n",
       "      <td>1</td>\n",
       "      <td>1</td>\n",
       "      <td>1</td>\n",
       "    </tr>\n",
       "    <tr>\n",
       "      <th>1</th>\n",
       "      <td>20324</td>\n",
       "      <td>20324</td>\n",
       "      <td>337</td>\n",
       "      <td>Bahrain Grand Prix</td>\n",
       "      <td>2010</td>\n",
       "      <td>3</td>\n",
       "      <td>13</td>\n",
       "      <td>6</td>\n",
       "      <td>2</td>\n",
       "      <td>1</td>\n",
       "      <td>3</td>\n",
       "      <td>1</td>\n",
       "      <td>1</td>\n",
       "      <td>2</td>\n",
       "    </tr>\n",
       "    <tr>\n",
       "      <th>2</th>\n",
       "      <td>20325</td>\n",
       "      <td>20325</td>\n",
       "      <td>337</td>\n",
       "      <td>Bahrain Grand Prix</td>\n",
       "      <td>2010</td>\n",
       "      <td>3</td>\n",
       "      <td>1</td>\n",
       "      <td>1</td>\n",
       "      <td>4</td>\n",
       "      <td>1</td>\n",
       "      <td>5</td>\n",
       "      <td>1</td>\n",
       "      <td>1</td>\n",
       "      <td>3</td>\n",
       "    </tr>\n",
       "    <tr>\n",
       "      <th>3</th>\n",
       "      <td>20326</td>\n",
       "      <td>20326</td>\n",
       "      <td>337</td>\n",
       "      <td>Bahrain Grand Prix</td>\n",
       "      <td>2010</td>\n",
       "      <td>3</td>\n",
       "      <td>20</td>\n",
       "      <td>9</td>\n",
       "      <td>1</td>\n",
       "      <td>1</td>\n",
       "      <td>1</td>\n",
       "      <td>1</td>\n",
       "      <td>1</td>\n",
       "      <td>4</td>\n",
       "    </tr>\n",
       "    <tr>\n",
       "      <th>4</th>\n",
       "      <td>20327</td>\n",
       "      <td>20327</td>\n",
       "      <td>337</td>\n",
       "      <td>Bahrain Grand Prix</td>\n",
       "      <td>2010</td>\n",
       "      <td>3</td>\n",
       "      <td>3</td>\n",
       "      <td>131</td>\n",
       "      <td>5</td>\n",
       "      <td>1</td>\n",
       "      <td>4</td>\n",
       "      <td>1</td>\n",
       "      <td>1</td>\n",
       "      <td>5</td>\n",
       "    </tr>\n",
       "    <tr>\n",
       "      <th>...</th>\n",
       "      <td>...</td>\n",
       "      <td>...</td>\n",
       "      <td>...</td>\n",
       "      <td>...</td>\n",
       "      <td>...</td>\n",
       "      <td>...</td>\n",
       "      <td>...</td>\n",
       "      <td>...</td>\n",
       "      <td>...</td>\n",
       "      <td>...</td>\n",
       "      <td>...</td>\n",
       "      <td>...</td>\n",
       "      <td>...</td>\n",
       "      <td>...</td>\n",
       "    </tr>\n",
       "    <tr>\n",
       "      <th>4292</th>\n",
       "      <td>24635</td>\n",
       "      <td>24621</td>\n",
       "      <td>1030</td>\n",
       "      <td>Abu Dhabi Grand Prix</td>\n",
       "      <td>2019</td>\n",
       "      <td>24</td>\n",
       "      <td>841</td>\n",
       "      <td>51</td>\n",
       "      <td>16</td>\n",
       "      <td>1</td>\n",
       "      <td>13</td>\n",
       "      <td>1</td>\n",
       "      <td>2</td>\n",
       "      <td>16</td>\n",
       "    </tr>\n",
       "    <tr>\n",
       "      <th>4293</th>\n",
       "      <td>24636</td>\n",
       "      <td>24622</td>\n",
       "      <td>1030</td>\n",
       "      <td>Abu Dhabi Grand Prix</td>\n",
       "      <td>2019</td>\n",
       "      <td>24</td>\n",
       "      <td>847</td>\n",
       "      <td>3</td>\n",
       "      <td>18</td>\n",
       "      <td>1</td>\n",
       "      <td>19</td>\n",
       "      <td>1</td>\n",
       "      <td>2</td>\n",
       "      <td>17</td>\n",
       "    </tr>\n",
       "    <tr>\n",
       "      <th>4294</th>\n",
       "      <td>24637</td>\n",
       "      <td>24623</td>\n",
       "      <td>1030</td>\n",
       "      <td>Abu Dhabi Grand Prix</td>\n",
       "      <td>2019</td>\n",
       "      <td>24</td>\n",
       "      <td>842</td>\n",
       "      <td>5</td>\n",
       "      <td>11</td>\n",
       "      <td>1</td>\n",
       "      <td>20</td>\n",
       "      <td>1</td>\n",
       "      <td>2</td>\n",
       "      <td>18</td>\n",
       "    </tr>\n",
       "    <tr>\n",
       "      <th>4295</th>\n",
       "      <td>24638</td>\n",
       "      <td>24624</td>\n",
       "      <td>1030</td>\n",
       "      <td>Abu Dhabi Grand Prix</td>\n",
       "      <td>2019</td>\n",
       "      <td>24</td>\n",
       "      <td>9</td>\n",
       "      <td>3</td>\n",
       "      <td>19</td>\n",
       "      <td>1</td>\n",
       "      <td>18</td>\n",
       "      <td>1</td>\n",
       "      <td>2</td>\n",
       "      <td>19</td>\n",
       "    </tr>\n",
       "    <tr>\n",
       "      <th>4296</th>\n",
       "      <td>24639</td>\n",
       "      <td>24625</td>\n",
       "      <td>1030</td>\n",
       "      <td>Abu Dhabi Grand Prix</td>\n",
       "      <td>2019</td>\n",
       "      <td>24</td>\n",
       "      <td>840</td>\n",
       "      <td>211</td>\n",
       "      <td>12</td>\n",
       "      <td>2</td>\n",
       "      <td>12</td>\n",
       "      <td>1</td>\n",
       "      <td>2</td>\n",
       "      <td>0</td>\n",
       "    </tr>\n",
       "  </tbody>\n",
       "</table>\n",
       "<p>4297 rows × 14 columns</p>\n",
       "</div>"
      ],
      "text/plain": [
       "      Unnamed: 0  resultId  raceId                  name  year  circuitId  \\\n",
       "0          20323     20323     337    Bahrain Grand Prix  2010          3   \n",
       "1          20324     20324     337    Bahrain Grand Prix  2010          3   \n",
       "2          20325     20325     337    Bahrain Grand Prix  2010          3   \n",
       "3          20326     20326     337    Bahrain Grand Prix  2010          3   \n",
       "4          20327     20327     337    Bahrain Grand Prix  2010          3   \n",
       "...          ...       ...     ...                   ...   ...        ...   \n",
       "4292       24635     24621    1030  Abu Dhabi Grand Prix  2019         24   \n",
       "4293       24636     24622    1030  Abu Dhabi Grand Prix  2019         24   \n",
       "4294       24637     24623    1030  Abu Dhabi Grand Prix  2019         24   \n",
       "4295       24638     24624    1030  Abu Dhabi Grand Prix  2019         24   \n",
       "4296       24639     24625    1030  Abu Dhabi Grand Prix  2019         24   \n",
       "\n",
       "      driverId  constructorId  starting_position  finishing_status  \\\n",
       "0            4              6                  3                 1   \n",
       "1           13              6                  2                 1   \n",
       "2            1              1                  4                 1   \n",
       "3           20              9                  1                 1   \n",
       "4            3            131                  5                 1   \n",
       "...        ...            ...                ...               ...   \n",
       "4292       841             51                 16                 1   \n",
       "4293       847              3                 18                 1   \n",
       "4294       842              5                 11                 1   \n",
       "4295         9              3                 19                 1   \n",
       "4296       840            211                 12                 2   \n",
       "\n",
       "      firstlap_position  lap  train_test  ending_position  \n",
       "0                     2    1           1                1  \n",
       "1                     3    1           1                2  \n",
       "2                     5    1           1                3  \n",
       "3                     1    1           1                4  \n",
       "4                     4    1           1                5  \n",
       "...                 ...  ...         ...              ...  \n",
       "4292                 13    1           2               16  \n",
       "4293                 19    1           2               17  \n",
       "4294                 20    1           2               18  \n",
       "4295                 18    1           2               19  \n",
       "4296                 12    1           2                0  \n",
       "\n",
       "[4297 rows x 14 columns]"
      ]
     },
     "execution_count": 26,
     "metadata": {},
     "output_type": "execute_result"
    }
   ],
   "source": [
    "df = pd.read_csv(Path('../Resources/PythonExport/race_final.csv'))\n",
    "print(df.shape)\n",
    "df"
   ]
  },
  {
   "cell_type": "code",
   "execution_count": 27,
   "metadata": {},
   "outputs": [
    {
     "data": {
      "text/plain": [
       "4     218\n",
       "6     218\n",
       "15    218\n",
       "11    218\n",
       "7     218\n",
       "9     218\n",
       "13    218\n",
       "17    218\n",
       "22    218\n",
       "14    218\n",
       "24    216\n",
       "1     216\n",
       "18    214\n",
       "3     194\n",
       "2     178\n",
       "69    166\n",
       "10    132\n",
       "70    124\n",
       "71    123\n",
       "32    102\n",
       "35     94\n",
       "73     82\n",
       "12     72\n",
       "68     70\n",
       "5      48\n",
       "20     46\n",
       "34     40\n",
       "Name: circuitId, dtype: int64"
      ]
     },
     "execution_count": 27,
     "metadata": {},
     "output_type": "execute_result"
    }
   ],
   "source": [
    "df[\"circuitId\"].value_counts()"
   ]
  },
  {
   "cell_type": "code",
   "execution_count": 31,
   "metadata": {},
   "outputs": [
    {
     "data": {
      "text/plain": [
       "Unnamed: 0            int64\n",
       "resultId              int64\n",
       "raceId                int64\n",
       "name                 object\n",
       "year                  int64\n",
       "circuitId             int64\n",
       "driverId              int64\n",
       "constructorId         int64\n",
       "starting_position     int64\n",
       "finishing_status      int64\n",
       "firstlap_position     int64\n",
       "lap                   int64\n",
       "train_test            int64\n",
       "ending_position       int64\n",
       "dtype: object"
      ]
     },
     "execution_count": 31,
     "metadata": {},
     "output_type": "execute_result"
    }
   ],
   "source": [
    "df.dtypes"
   ]
  },
  {
   "cell_type": "code",
   "execution_count": 3,
   "metadata": {},
   "outputs": [],
   "source": [
    "# We are only taking rows where the finishing_status = 1, aka driver finished the race\n",
    "#df1 = df.loc[(df[\"finishing_status\"] == 1)]"
   ]
  },
  {
   "cell_type": "code",
   "execution_count": 4,
   "metadata": {},
   "outputs": [
    {
     "name": "stdout",
     "output_type": "stream",
     "text": [
      "(3877, 14)\n",
      "(420, 14)\n"
     ]
    }
   ],
   "source": [
    "# Creating our train and test data sets using the train_test column\n",
    "df_train = df.loc[df[\"train_test\"] == 1]\n",
    "df_test = df.loc[df[\"train_test\"] == 2]\n",
    "print(df_train.shape)\n",
    "print(df_test.shape)"
   ]
  },
  {
   "cell_type": "code",
   "execution_count": 30,
   "metadata": {},
   "outputs": [
    {
     "data": {
      "text/plain": [
       "1     20\n",
       "17    20\n",
       "71    20\n",
       "70    20\n",
       "69    20\n",
       "34    20\n",
       "32    20\n",
       "24    20\n",
       "22    20\n",
       "18    20\n",
       "15    20\n",
       "3     20\n",
       "14    20\n",
       "13    20\n",
       "11    20\n",
       "10    20\n",
       "9     20\n",
       "7     20\n",
       "6     20\n",
       "4     20\n",
       "73    20\n",
       "Name: circuitId, dtype: int64"
      ]
     },
     "execution_count": 30,
     "metadata": {},
     "output_type": "execute_result"
    }
   ],
   "source": [
    "df_test[\"circuitId\"].value_counts()"
   ]
  },
  {
   "cell_type": "code",
   "execution_count": 5,
   "metadata": {},
   "outputs": [],
   "source": [
    "X_train = df_train[['circuitId','driverId','constructorId', 'starting_position', 'firstlap_position']]\n",
    "y_train = df_train['ending_position']"
   ]
  },
  {
   "cell_type": "code",
   "execution_count": 6,
   "metadata": {},
   "outputs": [],
   "source": [
    "X_test = df_test[['circuitId','driverId','constructorId', 'starting_position', 'firstlap_position']]\n",
    "y_test = df_test['ending_position']"
   ]
  },
  {
   "cell_type": "code",
   "execution_count": 7,
   "metadata": {},
   "outputs": [
    {
     "data": {
      "text/plain": [
       "LinearRegression()"
      ]
     },
     "execution_count": 7,
     "metadata": {},
     "output_type": "execute_result"
    }
   ],
   "source": [
    "mlr = LinearRegression()  \n",
    "mlr.fit(X_train, y_train)"
   ]
  },
  {
   "cell_type": "code",
   "execution_count": 8,
   "metadata": {},
   "outputs": [
    {
     "name": "stdout",
     "output_type": "stream",
     "text": [
      "Intercept:  1.3623136658997765\n",
      "Coefficients:\n"
     ]
    },
    {
     "data": {
      "text/plain": [
       "[('circuitId', 0.00338719461197072),\n",
       " ('driverId', 0.0011511350339709664),\n",
       " ('constructorId', 0.0035930987376151585),\n",
       " ('starting_position', 0.1273152163669493),\n",
       " ('firstlap_position', 0.39311980311426176)]"
      ]
     },
     "execution_count": 8,
     "metadata": {},
     "output_type": "execute_result"
    }
   ],
   "source": [
    "print(\"Intercept: \", mlr.intercept_)\n",
    "print(\"Coefficients:\")\n",
    "list(zip(X_train, mlr.coef_))"
   ]
  },
  {
   "cell_type": "code",
   "execution_count": 9,
   "metadata": {},
   "outputs": [],
   "source": [
    "X_test = df_test[['circuitId','driverId','constructorId', 'starting_position', 'firstlap_position']]\n",
    "y_test = df_test['ending_position']"
   ]
  },
  {
   "cell_type": "code",
   "execution_count": 10,
   "metadata": {},
   "outputs": [],
   "source": [
    "y_pred_mlr= mlr.predict(X_test)"
   ]
  },
  {
   "cell_type": "code",
   "execution_count": 11,
   "metadata": {},
   "outputs": [
    {
     "data": {
      "text/html": [
       "<div>\n",
       "<style scoped>\n",
       "    .dataframe tbody tr th:only-of-type {\n",
       "        vertical-align: middle;\n",
       "    }\n",
       "\n",
       "    .dataframe tbody tr th {\n",
       "        vertical-align: top;\n",
       "    }\n",
       "\n",
       "    .dataframe thead th {\n",
       "        text-align: right;\n",
       "    }\n",
       "</style>\n",
       "<table border=\"1\" class=\"dataframe\">\n",
       "  <thead>\n",
       "    <tr style=\"text-align: right;\">\n",
       "      <th></th>\n",
       "      <th>Actual value</th>\n",
       "      <th>Predicted value</th>\n",
       "    </tr>\n",
       "  </thead>\n",
       "  <tbody>\n",
       "    <tr>\n",
       "      <th>3877</th>\n",
       "      <td>1</td>\n",
       "      <td>3.430380</td>\n",
       "    </tr>\n",
       "    <tr>\n",
       "      <th>3878</th>\n",
       "      <td>2</td>\n",
       "      <td>2.751103</td>\n",
       "    </tr>\n",
       "    <tr>\n",
       "      <th>3879</th>\n",
       "      <td>3</td>\n",
       "      <td>4.435221</td>\n",
       "    </tr>\n",
       "    <tr>\n",
       "      <th>3880</th>\n",
       "      <td>4</td>\n",
       "      <td>2.971587</td>\n",
       "    </tr>\n",
       "    <tr>\n",
       "      <th>3881</th>\n",
       "      <td>5</td>\n",
       "      <td>4.960993</td>\n",
       "    </tr>\n",
       "  </tbody>\n",
       "</table>\n",
       "</div>"
      ],
      "text/plain": [
       "      Actual value  Predicted value\n",
       "3877             1         3.430380\n",
       "3878             2         2.751103\n",
       "3879             3         4.435221\n",
       "3880             4         2.971587\n",
       "3881             5         4.960993"
      ]
     },
     "execution_count": 11,
     "metadata": {},
     "output_type": "execute_result"
    }
   ],
   "source": [
    "mlr_diff = pd.DataFrame({'Actual value': y_test, 'Predicted value': y_pred_mlr})\n",
    "mlr_diff.head()"
   ]
  },
  {
   "cell_type": "code",
   "execution_count": 12,
   "metadata": {},
   "outputs": [
    {
     "data": {
      "text/html": [
       "<div>\n",
       "<style scoped>\n",
       "    .dataframe tbody tr th:only-of-type {\n",
       "        vertical-align: middle;\n",
       "    }\n",
       "\n",
       "    .dataframe tbody tr th {\n",
       "        vertical-align: top;\n",
       "    }\n",
       "\n",
       "    .dataframe thead th {\n",
       "        text-align: right;\n",
       "    }\n",
       "</style>\n",
       "<table border=\"1\" class=\"dataframe\">\n",
       "  <thead>\n",
       "    <tr style=\"text-align: right;\">\n",
       "      <th></th>\n",
       "      <th>Actual value</th>\n",
       "      <th>Predicted value</th>\n",
       "      <th>Predicted Round</th>\n",
       "    </tr>\n",
       "  </thead>\n",
       "  <tbody>\n",
       "    <tr>\n",
       "      <th>3877</th>\n",
       "      <td>1</td>\n",
       "      <td>3.430380</td>\n",
       "      <td>3</td>\n",
       "    </tr>\n",
       "    <tr>\n",
       "      <th>3878</th>\n",
       "      <td>2</td>\n",
       "      <td>2.751103</td>\n",
       "      <td>3</td>\n",
       "    </tr>\n",
       "    <tr>\n",
       "      <th>3879</th>\n",
       "      <td>3</td>\n",
       "      <td>4.435221</td>\n",
       "      <td>4</td>\n",
       "    </tr>\n",
       "    <tr>\n",
       "      <th>3880</th>\n",
       "      <td>4</td>\n",
       "      <td>2.971587</td>\n",
       "      <td>3</td>\n",
       "    </tr>\n",
       "    <tr>\n",
       "      <th>3881</th>\n",
       "      <td>5</td>\n",
       "      <td>4.960993</td>\n",
       "      <td>5</td>\n",
       "    </tr>\n",
       "  </tbody>\n",
       "</table>\n",
       "</div>"
      ],
      "text/plain": [
       "      Actual value  Predicted value  Predicted Round\n",
       "3877             1         3.430380                3\n",
       "3878             2         2.751103                3\n",
       "3879             3         4.435221                4\n",
       "3880             4         2.971587                3\n",
       "3881             5         4.960993                5"
      ]
     },
     "execution_count": 12,
     "metadata": {},
     "output_type": "execute_result"
    }
   ],
   "source": [
    "mlr_diff[\"Predicted Round\"] = mlr_diff[\"Predicted value\"].round(0)\n",
    "mlr_diff[\"Predicted Round\"] = mlr_diff[\"Predicted Round\"].astype(int)\n",
    "mlr_diff.head()"
   ]
  },
  {
   "cell_type": "code",
   "execution_count": 13,
   "metadata": {},
   "outputs": [
    {
     "data": {
      "text/plain": [
       "Actual value         int64\n",
       "Predicted value    float64\n",
       "Predicted Round      int64\n",
       "dtype: object"
      ]
     },
     "execution_count": 13,
     "metadata": {},
     "output_type": "execute_result"
    }
   ],
   "source": [
    "mlr_diff.dtypes"
   ]
  },
  {
   "cell_type": "code",
   "execution_count": 14,
   "metadata": {},
   "outputs": [],
   "source": [
    "df_test1 = pd.merge(df_test, mlr_diff, left_index=True, right_index=True, how='outer')"
   ]
  },
  {
   "cell_type": "code",
   "execution_count": 15,
   "metadata": {},
   "outputs": [
    {
     "name": "stdout",
     "output_type": "stream",
     "text": [
      "The model predicted 0 race positions accurately out of 21 for race position 1 for 2019 season\n",
      "The model predicted 2 race positions accurately out of 21 for race position 2 for 2019 season\n",
      "The model predicted 3 race positions accurately out of 21 for race position 3 for 2019 season\n",
      "The model predicted 2 race positions accurately out of 21 for race position 4 for 2019 season\n",
      "The model predicted 6 race positions accurately out of 21 for race position 5 for 2019 season\n",
      "The model predicted 7 race positions accurately out of 21 for race position 6 for 2019 season\n",
      "The model predicted 7 race positions accurately out of 21 for race position 7 for 2019 season\n",
      "The model predicted 6 race positions accurately out of 21 for race position 8 for 2019 season\n",
      "The model predicted 4 race positions accurately out of 21 for race position 9 for 2019 season\n",
      "The model predicted 2 race positions accurately out of 21 for race position 10 for 2019 season\n"
     ]
    }
   ],
   "source": [
    "# Predicting the Podium\n",
    "positions = [1,2,3,4,5,6,7,8,9,10]\n",
    "\n",
    "for i in positions:\n",
    "    x = len(df_test1.loc[(df_test1[\"Predicted Round\"] == i) & (df_test1[\"Actual value\"] == i)])\n",
    "    y = len(df_test1.loc[df_test1[\"Actual value\"] == i])\n",
    "    print(f\"The model predicted {x} race positions accurately out of {y} for race position {i} for 2019 season\")"
   ]
  },
  {
   "cell_type": "code",
   "execution_count": 16,
   "metadata": {
    "scrolled": false
   },
   "outputs": [
    {
     "data": {
      "text/html": [
       "<table class=\"simpletable\">\n",
       "<caption>OLS Regression Results</caption>\n",
       "<tr>\n",
       "  <th>Dep. Variable:</th>     <td>ending_position</td> <th>  R-squared:         </th> <td>   0.318</td> \n",
       "</tr>\n",
       "<tr>\n",
       "  <th>Model:</th>                   <td>OLS</td>       <th>  Adj. R-squared:    </th> <td>   0.317</td> \n",
       "</tr>\n",
       "<tr>\n",
       "  <th>Method:</th>             <td>Least Squares</td>  <th>  F-statistic:       </th> <td>   360.4</td> \n",
       "</tr>\n",
       "<tr>\n",
       "  <th>Date:</th>             <td>Tue, 13 Jul 2021</td> <th>  Prob (F-statistic):</th> <td>6.17e-318</td>\n",
       "</tr>\n",
       "<tr>\n",
       "  <th>Time:</th>                 <td>20:35:11</td>     <th>  Log-Likelihood:    </th> <td> -11821.</td> \n",
       "</tr>\n",
       "<tr>\n",
       "  <th>No. Observations:</th>      <td>  3877</td>      <th>  AIC:               </th> <td>2.365e+04</td>\n",
       "</tr>\n",
       "<tr>\n",
       "  <th>Df Residuals:</th>          <td>  3871</td>      <th>  BIC:               </th> <td>2.369e+04</td>\n",
       "</tr>\n",
       "<tr>\n",
       "  <th>Df Model:</th>              <td>     5</td>      <th>                     </th>     <td> </td>    \n",
       "</tr>\n",
       "<tr>\n",
       "  <th>Covariance Type:</th>      <td>nonrobust</td>    <th>                     </th>     <td> </td>    \n",
       "</tr>\n",
       "</table>\n",
       "<table class=\"simpletable\">\n",
       "<tr>\n",
       "          <td></td>             <th>coef</th>     <th>std err</th>      <th>t</th>      <th>P>|t|</th>  <th>[0.025</th>    <th>0.975]</th>  \n",
       "</tr>\n",
       "<tr>\n",
       "  <th>Intercept</th>         <td>    1.3623</td> <td>    0.195</td> <td>    6.995</td> <td> 0.000</td> <td>    0.980</td> <td>    1.744</td>\n",
       "</tr>\n",
       "<tr>\n",
       "  <th>circuitId</th>         <td>    0.0034</td> <td>    0.004</td> <td>    0.848</td> <td> 0.397</td> <td>   -0.004</td> <td>    0.011</td>\n",
       "</tr>\n",
       "<tr>\n",
       "  <th>driverId</th>          <td>    0.0012</td> <td>    0.000</td> <td>    5.206</td> <td> 0.000</td> <td>    0.001</td> <td>    0.002</td>\n",
       "</tr>\n",
       "<tr>\n",
       "  <th>constructorId</th>     <td>    0.0036</td> <td>    0.001</td> <td>    3.337</td> <td> 0.001</td> <td>    0.001</td> <td>    0.006</td>\n",
       "</tr>\n",
       "<tr>\n",
       "  <th>starting_position</th> <td>    0.1273</td> <td>    0.022</td> <td>    5.901</td> <td> 0.000</td> <td>    0.085</td> <td>    0.170</td>\n",
       "</tr>\n",
       "<tr>\n",
       "  <th>firstlap_position</th> <td>    0.3931</td> <td>    0.021</td> <td>   18.847</td> <td> 0.000</td> <td>    0.352</td> <td>    0.434</td>\n",
       "</tr>\n",
       "</table>\n",
       "<table class=\"simpletable\">\n",
       "<tr>\n",
       "  <th>Omnibus:</th>       <td>252.147</td> <th>  Durbin-Watson:     </th> <td>   0.821</td>\n",
       "</tr>\n",
       "<tr>\n",
       "  <th>Prob(Omnibus):</th> <td> 0.000</td>  <th>  Jarque-Bera (JB):  </th> <td> 305.847</td>\n",
       "</tr>\n",
       "<tr>\n",
       "  <th>Skew:</th>          <td>-0.642</td>  <th>  Prob(JB):          </th> <td>3.86e-67</td>\n",
       "</tr>\n",
       "<tr>\n",
       "  <th>Kurtosis:</th>      <td> 3.494</td>  <th>  Cond. No.          </th> <td>1.39e+03</td>\n",
       "</tr>\n",
       "</table><br/><br/>Notes:<br/>[1] Standard Errors assume that the covariance matrix of the errors is correctly specified.<br/>[2] The condition number is large, 1.39e+03. This might indicate that there are<br/>strong multicollinearity or other numerical problems."
      ],
      "text/plain": [
       "<class 'statsmodels.iolib.summary.Summary'>\n",
       "\"\"\"\n",
       "                            OLS Regression Results                            \n",
       "==============================================================================\n",
       "Dep. Variable:        ending_position   R-squared:                       0.318\n",
       "Model:                            OLS   Adj. R-squared:                  0.317\n",
       "Method:                 Least Squares   F-statistic:                     360.4\n",
       "Date:                Tue, 13 Jul 2021   Prob (F-statistic):          6.17e-318\n",
       "Time:                        20:35:11   Log-Likelihood:                -11821.\n",
       "No. Observations:                3877   AIC:                         2.365e+04\n",
       "Df Residuals:                    3871   BIC:                         2.369e+04\n",
       "Df Model:                           5                                         \n",
       "Covariance Type:            nonrobust                                         \n",
       "=====================================================================================\n",
       "                        coef    std err          t      P>|t|      [0.025      0.975]\n",
       "-------------------------------------------------------------------------------------\n",
       "Intercept             1.3623      0.195      6.995      0.000       0.980       1.744\n",
       "circuitId             0.0034      0.004      0.848      0.397      -0.004       0.011\n",
       "driverId              0.0012      0.000      5.206      0.000       0.001       0.002\n",
       "constructorId         0.0036      0.001      3.337      0.001       0.001       0.006\n",
       "starting_position     0.1273      0.022      5.901      0.000       0.085       0.170\n",
       "firstlap_position     0.3931      0.021     18.847      0.000       0.352       0.434\n",
       "==============================================================================\n",
       "Omnibus:                      252.147   Durbin-Watson:                   0.821\n",
       "Prob(Omnibus):                  0.000   Jarque-Bera (JB):              305.847\n",
       "Skew:                          -0.642   Prob(JB):                     3.86e-67\n",
       "Kurtosis:                       3.494   Cond. No.                     1.39e+03\n",
       "==============================================================================\n",
       "\n",
       "Notes:\n",
       "[1] Standard Errors assume that the covariance matrix of the errors is correctly specified.\n",
       "[2] The condition number is large, 1.39e+03. This might indicate that there are\n",
       "strong multicollinearity or other numerical problems.\n",
       "\"\"\""
      ]
     },
     "execution_count": 16,
     "metadata": {},
     "output_type": "execute_result"
    }
   ],
   "source": [
    "# Summary of the Model\n",
    "model = sm.OLS.from_formula(\"ending_position ~ circuitId + driverId + constructorId + starting_position + firstlap_position\", data=df_train)\n",
    "result = model.fit()\n",
    "result.summary()"
   ]
  },
  {
   "cell_type": "markdown",
   "metadata": {},
   "source": [
    "## Support Vector Regression"
   ]
  },
  {
   "cell_type": "code",
   "execution_count": 17,
   "metadata": {},
   "outputs": [],
   "source": [
    "scaler = StandardScaler().fit(X_train)\n",
    "X_train_scaled = scaler.transform(X_train)"
   ]
  },
  {
   "cell_type": "code",
   "execution_count": 18,
   "metadata": {},
   "outputs": [],
   "source": [
    "scaler1 = StandardScaler().fit(X_test)\n",
    "X_test_scaled = scaler.transform(X_test)"
   ]
  },
  {
   "cell_type": "code",
   "execution_count": 19,
   "metadata": {},
   "outputs": [
    {
     "data": {
      "text/plain": [
       "SVR()"
      ]
     },
     "execution_count": 19,
     "metadata": {},
     "output_type": "execute_result"
    }
   ],
   "source": [
    "from sklearn.svm import SVR\n",
    "regressor = SVR(kernel = 'rbf')\n",
    "regressor.fit(X_train, y_train)"
   ]
  },
  {
   "cell_type": "code",
   "execution_count": 20,
   "metadata": {},
   "outputs": [
    {
     "name": "stdout",
     "output_type": "stream",
     "text": [
      "R squared: 10.32\n"
     ]
    }
   ],
   "source": [
    "print('R squared: {:.2f}'.format(regressor.score(X_train, y_train)*100))"
   ]
  },
  {
   "cell_type": "markdown",
   "metadata": {},
   "source": [
    "## Random Forrest - multi class"
   ]
  },
  {
   "cell_type": "code",
   "execution_count": 21,
   "metadata": {},
   "outputs": [],
   "source": [
    "from sklearn.ensemble import RandomForestClassifier"
   ]
  },
  {
   "cell_type": "code",
   "execution_count": 22,
   "metadata": {},
   "outputs": [],
   "source": [
    "# Create a random forest classifier.\n",
    "##rf_model = RandomForestClassifier(n_estimators=128, random_state=78) \n",
    "rf_model = RandomForestClassifier(n_estimators = 10, criterion = 'entropy', random_state = 42)"
   ]
  },
  {
   "cell_type": "code",
   "execution_count": 23,
   "metadata": {},
   "outputs": [],
   "source": [
    "# Fitting the model\n",
    "rf_model = rf_model.fit(X_train_scaled, y_train)"
   ]
  },
  {
   "cell_type": "code",
   "execution_count": 24,
   "metadata": {},
   "outputs": [],
   "source": [
    "# Making predictions using the testing data.\n",
    "predictions = rf_model.predict(X_test_scaled)\n",
    "Z2 = pd.DataFrame({\"Prediction\": predictions, \"Actual\": y_test})"
   ]
  },
  {
   "cell_type": "code",
   "execution_count": 25,
   "metadata": {},
   "outputs": [
    {
     "ename": "NameError",
     "evalue": "name 'accuracy_score' is not defined",
     "output_type": "error",
     "traceback": [
      "\u001b[0;31m---------------------------------------------------------------------------\u001b[0m",
      "\u001b[0;31mNameError\u001b[0m                                 Traceback (most recent call last)",
      "\u001b[0;32m<ipython-input-25-15e28af69a0d>\u001b[0m in \u001b[0;36m<module>\u001b[0;34m\u001b[0m\n\u001b[1;32m      1\u001b[0m \u001b[0;31m# Calculating the accuracy score.\u001b[0m\u001b[0;34m\u001b[0m\u001b[0;34m\u001b[0m\u001b[0;34m\u001b[0m\u001b[0m\n\u001b[0;32m----> 2\u001b[0;31m \u001b[0macc_score\u001b[0m \u001b[0;34m=\u001b[0m \u001b[0maccuracy_score\u001b[0m\u001b[0;34m(\u001b[0m\u001b[0my_test\u001b[0m\u001b[0;34m,\u001b[0m \u001b[0mpredictions\u001b[0m\u001b[0;34m)\u001b[0m\u001b[0;34m\u001b[0m\u001b[0;34m\u001b[0m\u001b[0m\n\u001b[0m\u001b[1;32m      3\u001b[0m \u001b[0macc_score\u001b[0m\u001b[0;34m\u001b[0m\u001b[0;34m\u001b[0m\u001b[0m\n",
      "\u001b[0;31mNameError\u001b[0m: name 'accuracy_score' is not defined"
     ]
    }
   ],
   "source": [
    "# Calculating the accuracy score.\n",
    "acc_score = accuracy_score(y_test, predictions)\n",
    "acc_score"
   ]
  },
  {
   "cell_type": "code",
   "execution_count": null,
   "metadata": {},
   "outputs": [],
   "source": [
    "# Merging the Z dataframe and df_test datframe \n",
    "df_test3 = pd.merge(df_test, Z2, left_index=True, right_index=True, how='outer')"
   ]
  },
  {
   "cell_type": "code",
   "execution_count": null,
   "metadata": {},
   "outputs": [],
   "source": [
    "# Number of races\n",
    "\n",
    "positions = [1,2,3]\n",
    "\n",
    "for i in positions:\n",
    "    x = len(df_test3.loc[(df_test1[\"Prediction\"] == i) & (df_test1[\"Actual\"] == i)])\n",
    "    y = len(df_test3.loc[df_test1[\"Actual\"] == i])\n",
    "    print(f\"The model predicted {x} race positions accurately out of {y} for race position {i} for 2019 season\")"
   ]
  },
  {
   "cell_type": "code",
   "execution_count": null,
   "metadata": {},
   "outputs": [],
   "source": [
    "importances = rf_model.feature_importances_\n",
    "# We can sort the features by their importance.\n",
    "sorted(zip(rf_model.feature_importances_, X_train.columns), reverse=True)"
   ]
  },
  {
   "cell_type": "markdown",
   "metadata": {},
   "source": [
    "## XGBoost"
   ]
  },
  {
   "cell_type": "code",
   "execution_count": null,
   "metadata": {},
   "outputs": [],
   "source": [
    "#from numpy import mean\n",
    "#from numpy import std\n",
    "#from sklearn.datasets import make_classification\n",
    "#from sklearn.model_selection import cross_val_score\n",
    "#from sklearn.model_selection import RepeatedStratifiedKFold\n",
    "#from xgboost import XGBRFClassifier\n",
    "\n",
    "# define the model\n",
    "#model2 = XGBRFClassifier(n_estimators=100, subsample=0.9, colsample_bynode=0.2)\n",
    "# define the model evaluation procedure\n",
    "#cv = RepeatedStratifiedKFold(n_splits=9, n_repeats=3, random_state=1)\n",
    "# evaluate the model and collect the scores\n",
    "#n_scores = cross_val_score(model2, X_train_scaled, y_train, scoring='accuracy', cv=cv, n_jobs=-1)\n",
    "# report performance\n",
    "#print('Mean Accuracy: %.3f (%.3f)' % (mean(n_scores), std(n_scores)))"
   ]
  },
  {
   "cell_type": "code",
   "execution_count": null,
   "metadata": {},
   "outputs": [],
   "source": []
  }
 ],
 "metadata": {
  "kernelspec": {
   "display_name": "mlenv",
   "language": "python",
   "name": "mlenv"
  },
  "language_info": {
   "codemirror_mode": {
    "name": "ipython",
    "version": 3
   },
   "file_extension": ".py",
   "mimetype": "text/x-python",
   "name": "python",
   "nbconvert_exporter": "python",
   "pygments_lexer": "ipython3",
   "version": "3.7.10"
  }
 },
 "nbformat": 4,
 "nbformat_minor": 4
}

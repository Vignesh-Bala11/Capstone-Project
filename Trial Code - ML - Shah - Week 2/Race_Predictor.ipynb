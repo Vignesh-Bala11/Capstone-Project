{
 "cells": [
  {
   "cell_type": "code",
   "execution_count": 1,
   "metadata": {},
   "outputs": [],
   "source": [
    "%matplotlib inline\n",
    "import matplotlib.pyplot as plt\n",
    "import pandas as pd\n",
    "import os\n",
    "from pathlib import Path\n",
    "from sklearn.preprocessing import StandardScaler"
   ]
  },
  {
   "cell_type": "code",
   "execution_count": 2,
   "metadata": {},
   "outputs": [
    {
     "name": "stdout",
     "output_type": "stream",
     "text": [
      "(4297, 14)\n"
     ]
    },
    {
     "data": {
      "text/html": [
       "<div>\n",
       "<style scoped>\n",
       "    .dataframe tbody tr th:only-of-type {\n",
       "        vertical-align: middle;\n",
       "    }\n",
       "\n",
       "    .dataframe tbody tr th {\n",
       "        vertical-align: top;\n",
       "    }\n",
       "\n",
       "    .dataframe thead th {\n",
       "        text-align: right;\n",
       "    }\n",
       "</style>\n",
       "<table border=\"1\" class=\"dataframe\">\n",
       "  <thead>\n",
       "    <tr style=\"text-align: right;\">\n",
       "      <th></th>\n",
       "      <th>Unnamed: 0</th>\n",
       "      <th>resultId</th>\n",
       "      <th>raceId</th>\n",
       "      <th>name</th>\n",
       "      <th>year</th>\n",
       "      <th>circuitId</th>\n",
       "      <th>driverId</th>\n",
       "      <th>constructorId</th>\n",
       "      <th>starting_position</th>\n",
       "      <th>finishing_status</th>\n",
       "      <th>firstlap_position</th>\n",
       "      <th>lap</th>\n",
       "      <th>train_test</th>\n",
       "      <th>ending_position</th>\n",
       "    </tr>\n",
       "  </thead>\n",
       "  <tbody>\n",
       "    <tr>\n",
       "      <th>0</th>\n",
       "      <td>20323</td>\n",
       "      <td>20323</td>\n",
       "      <td>337</td>\n",
       "      <td>Bahrain Grand Prix</td>\n",
       "      <td>2010</td>\n",
       "      <td>3</td>\n",
       "      <td>4</td>\n",
       "      <td>6</td>\n",
       "      <td>3</td>\n",
       "      <td>1</td>\n",
       "      <td>2</td>\n",
       "      <td>1</td>\n",
       "      <td>1</td>\n",
       "      <td>1</td>\n",
       "    </tr>\n",
       "    <tr>\n",
       "      <th>1</th>\n",
       "      <td>20324</td>\n",
       "      <td>20324</td>\n",
       "      <td>337</td>\n",
       "      <td>Bahrain Grand Prix</td>\n",
       "      <td>2010</td>\n",
       "      <td>3</td>\n",
       "      <td>13</td>\n",
       "      <td>6</td>\n",
       "      <td>2</td>\n",
       "      <td>1</td>\n",
       "      <td>3</td>\n",
       "      <td>1</td>\n",
       "      <td>1</td>\n",
       "      <td>2</td>\n",
       "    </tr>\n",
       "    <tr>\n",
       "      <th>2</th>\n",
       "      <td>20325</td>\n",
       "      <td>20325</td>\n",
       "      <td>337</td>\n",
       "      <td>Bahrain Grand Prix</td>\n",
       "      <td>2010</td>\n",
       "      <td>3</td>\n",
       "      <td>1</td>\n",
       "      <td>1</td>\n",
       "      <td>4</td>\n",
       "      <td>1</td>\n",
       "      <td>5</td>\n",
       "      <td>1</td>\n",
       "      <td>1</td>\n",
       "      <td>3</td>\n",
       "    </tr>\n",
       "    <tr>\n",
       "      <th>3</th>\n",
       "      <td>20326</td>\n",
       "      <td>20326</td>\n",
       "      <td>337</td>\n",
       "      <td>Bahrain Grand Prix</td>\n",
       "      <td>2010</td>\n",
       "      <td>3</td>\n",
       "      <td>20</td>\n",
       "      <td>9</td>\n",
       "      <td>1</td>\n",
       "      <td>1</td>\n",
       "      <td>1</td>\n",
       "      <td>1</td>\n",
       "      <td>1</td>\n",
       "      <td>4</td>\n",
       "    </tr>\n",
       "    <tr>\n",
       "      <th>4</th>\n",
       "      <td>20327</td>\n",
       "      <td>20327</td>\n",
       "      <td>337</td>\n",
       "      <td>Bahrain Grand Prix</td>\n",
       "      <td>2010</td>\n",
       "      <td>3</td>\n",
       "      <td>3</td>\n",
       "      <td>131</td>\n",
       "      <td>5</td>\n",
       "      <td>1</td>\n",
       "      <td>4</td>\n",
       "      <td>1</td>\n",
       "      <td>1</td>\n",
       "      <td>5</td>\n",
       "    </tr>\n",
       "  </tbody>\n",
       "</table>\n",
       "</div>"
      ],
      "text/plain": [
       "   Unnamed: 0  resultId  raceId                name  year  circuitId  \\\n",
       "0       20323     20323     337  Bahrain Grand Prix  2010          3   \n",
       "1       20324     20324     337  Bahrain Grand Prix  2010          3   \n",
       "2       20325     20325     337  Bahrain Grand Prix  2010          3   \n",
       "3       20326     20326     337  Bahrain Grand Prix  2010          3   \n",
       "4       20327     20327     337  Bahrain Grand Prix  2010          3   \n",
       "\n",
       "   driverId  constructorId  starting_position  finishing_status  \\\n",
       "0         4              6                  3                 1   \n",
       "1        13              6                  2                 1   \n",
       "2         1              1                  4                 1   \n",
       "3        20              9                  1                 1   \n",
       "4         3            131                  5                 1   \n",
       "\n",
       "   firstlap_position  lap  train_test  ending_position  \n",
       "0                  2    1           1                1  \n",
       "1                  3    1           1                2  \n",
       "2                  5    1           1                3  \n",
       "3                  1    1           1                4  \n",
       "4                  4    1           1                5  "
      ]
     },
     "execution_count": 2,
     "metadata": {},
     "output_type": "execute_result"
    }
   ],
   "source": [
    "df = pd.read_csv(Path('../Resources/PythonExport/race_final.csv'))\n",
    "print(df.shape)\n",
    "df.head()"
   ]
  },
  {
   "cell_type": "code",
   "execution_count": 3,
   "metadata": {},
   "outputs": [],
   "source": [
    "# We are only taking rows where the finishing_status = 1, aka driver finished the race\n",
    "#df1 = df.loc[(df[\"finishing_status\"] == 1)]"
   ]
  },
  {
   "cell_type": "code",
   "execution_count": 4,
   "metadata": {},
   "outputs": [
    {
     "name": "stdout",
     "output_type": "stream",
     "text": [
      "(3877, 14)\n",
      "(420, 14)\n"
     ]
    }
   ],
   "source": [
    "# Creating our train and test data sets using the train_test column\n",
    "df_train = df.loc[df[\"train_test\"] == 1]\n",
    "df_test = df.loc[df[\"train_test\"] == 2]\n",
    "print(df_train.shape)\n",
    "print(df_test.shape)"
   ]
  },
  {
   "cell_type": "code",
   "execution_count": 5,
   "metadata": {},
   "outputs": [],
   "source": [
    "X_train = df_train[['circuitId','driverId','constructorId', 'starting_position', 'firstlap_position']]\n",
    "y_train = df_train['ending_position']"
   ]
  },
  {
   "cell_type": "code",
   "execution_count": 6,
   "metadata": {},
   "outputs": [],
   "source": [
    "scaler = StandardScaler().fit(X_train)\n",
    "X_train_scaled = scaler.transform(X_train)"
   ]
  },
  {
   "cell_type": "code",
   "execution_count": 7,
   "metadata": {},
   "outputs": [
    {
     "data": {
      "text/plain": [
       "LogisticRegression(max_iter=1000, multi_class='multinomial')"
      ]
     },
     "execution_count": 7,
     "metadata": {},
     "output_type": "execute_result"
    }
   ],
   "source": [
    "from sklearn.linear_model import LogisticRegression\n",
    "classifier = LogisticRegression(solver='lbfgs', multi_class='multinomial', max_iter=1000)\n",
    "classifier"
   ]
  },
  {
   "cell_type": "code",
   "execution_count": 8,
   "metadata": {},
   "outputs": [
    {
     "data": {
      "text/plain": [
       "LogisticRegression(max_iter=1000, multi_class='multinomial')"
      ]
     },
     "execution_count": 8,
     "metadata": {},
     "output_type": "execute_result"
    }
   ],
   "source": [
    "classifier.fit(X_train_scaled, y_train)"
   ]
  },
  {
   "cell_type": "code",
   "execution_count": 9,
   "metadata": {},
   "outputs": [],
   "source": [
    "X_test = df_test[['circuitId','driverId','constructorId', 'starting_position', 'firstlap_position']]\n",
    "y_test = df_test['ending_position']"
   ]
  },
  {
   "cell_type": "code",
   "execution_count": 10,
   "metadata": {},
   "outputs": [
    {
     "data": {
      "text/plain": [
       "array([ 1,  2,  3,  4,  5,  6,  7,  8,  9, 10, 11, 12, 13, 14, 15, 16, 17,\n",
       "        0, 18, 19, 20])"
      ]
     },
     "execution_count": 10,
     "metadata": {},
     "output_type": "execute_result"
    }
   ],
   "source": [
    "df_test['ending_position'].unique()"
   ]
  },
  {
   "cell_type": "code",
   "execution_count": 11,
   "metadata": {},
   "outputs": [],
   "source": [
    "scaler1 = StandardScaler().fit(X_test)\n",
    "X_test_scaled = scaler.transform(X_test)"
   ]
  },
  {
   "cell_type": "code",
   "execution_count": 12,
   "metadata": {},
   "outputs": [],
   "source": [
    "y_pred = classifier.predict(X_test_scaled)\n",
    "Z = pd.DataFrame({\"Prediction\": y_pred, \"Actual\": y_test})"
   ]
  },
  {
   "cell_type": "code",
   "execution_count": 13,
   "metadata": {},
   "outputs": [
    {
     "name": "stdout",
     "output_type": "stream",
     "text": [
      "0.16904761904761906\n"
     ]
    }
   ],
   "source": [
    "from sklearn.metrics import accuracy_score\n",
    "print(accuracy_score(y_test, y_pred))"
   ]
  },
  {
   "cell_type": "code",
   "execution_count": 14,
   "metadata": {},
   "outputs": [],
   "source": [
    "# Merging the Z dataframe and df_test datframe \n",
    "df_test1 = pd.merge(df_test, Z, left_index=True, right_index=True, how='outer')"
   ]
  },
  {
   "cell_type": "code",
   "execution_count": 15,
   "metadata": {},
   "outputs": [
    {
     "name": "stdout",
     "output_type": "stream",
     "text": [
      "The model predicted 15 race positions accurately out of 21 for race position 1 for 2019 season\n",
      "The model predicted 7 race positions accurately out of 21 for race position 2 for 2019 season\n",
      "The model predicted 3 race positions accurately out of 21 for race position 3 for 2019 season\n"
     ]
    }
   ],
   "source": [
    "# Number of races\n",
    "\n",
    "positions = [1,2,3]\n",
    "\n",
    "for i in positions:\n",
    "    x = len(df_test1.loc[(df_test1[\"Prediction\"] == i) & (df_test1[\"Actual\"] == i)])\n",
    "    y = len(df_test1.loc[df_test1[\"Actual\"] == i])\n",
    "    print(f\"The model predicted {x} race positions accurately out of {y} for race position {i} for 2019 season\")"
   ]
  },
  {
   "cell_type": "markdown",
   "metadata": {},
   "source": [
    "## Support Vector Machines - multi class¶"
   ]
  },
  {
   "cell_type": "code",
   "execution_count": 16,
   "metadata": {},
   "outputs": [],
   "source": [
    "from sklearn import svm, datasets\n",
    "import sklearn.model_selection as model_selection\n",
    "from sklearn.metrics import accuracy_score\n",
    "from sklearn.metrics import f1_score\n",
    "import numpy as np"
   ]
  },
  {
   "cell_type": "code",
   "execution_count": 17,
   "metadata": {},
   "outputs": [],
   "source": [
    "rbf = svm.SVC(kernel='rbf', gamma=0.5, C=0.1).fit(X_train_scaled, y_train)\n",
    "poly = svm.SVC(kernel='poly', degree=3, C=1).fit(X_train_scaled, y_train)"
   ]
  },
  {
   "cell_type": "code",
   "execution_count": 18,
   "metadata": {},
   "outputs": [],
   "source": [
    "poly_pred = poly.predict(X_test_scaled)\n",
    "rbf_pred = rbf.predict(X_test_scaled)"
   ]
  },
  {
   "cell_type": "code",
   "execution_count": 19,
   "metadata": {},
   "outputs": [
    {
     "name": "stdout",
     "output_type": "stream",
     "text": [
      "Accuracy (Polynomial Kernel):  16.67\n",
      "F1 (Polynomial Kernel):  8.57\n"
     ]
    }
   ],
   "source": [
    "poly_accuracy = accuracy_score(y_test, poly_pred)\n",
    "poly_f1 = f1_score(y_test, poly_pred, average='weighted')\n",
    "print('Accuracy (Polynomial Kernel): ', \"%.2f\" % (poly_accuracy*100))\n",
    "print('F1 (Polynomial Kernel): ', \"%.2f\" % (poly_f1*100))"
   ]
  },
  {
   "cell_type": "code",
   "execution_count": 20,
   "metadata": {},
   "outputs": [
    {
     "name": "stdout",
     "output_type": "stream",
     "text": [
      "Accuracy (RBF Kernel):  14.76\n",
      "F1 (RBF Kernel):  5.71\n"
     ]
    }
   ],
   "source": [
    "rbf_accuracy = accuracy_score(y_test, rbf_pred)\n",
    "rbf_f1 = f1_score(y_test, rbf_pred, average='weighted')\n",
    "print('Accuracy (RBF Kernel): ', \"%.2f\" % (rbf_accuracy*100))\n",
    "print('F1 (RBF Kernel): ', \"%.2f\" % (rbf_f1*100))"
   ]
  },
  {
   "cell_type": "code",
   "execution_count": 21,
   "metadata": {},
   "outputs": [],
   "source": [
    "# Making predictions using the testing data.\n",
    "Z1 = pd.DataFrame({\"Prediction\": rbf_pred, \"Actual\": y_test})"
   ]
  },
  {
   "cell_type": "code",
   "execution_count": 22,
   "metadata": {},
   "outputs": [],
   "source": [
    "# Merging the Z dataframe and df_test datframe \n",
    "df_test2 = pd.merge(df_test, Z1, left_index=True, right_index=True, how='outer')"
   ]
  },
  {
   "cell_type": "code",
   "execution_count": 23,
   "metadata": {},
   "outputs": [
    {
     "name": "stdout",
     "output_type": "stream",
     "text": [
      "The model predicted 15 race positions accurately out of 21 for race position 1 for 2019 season\n",
      "The model predicted 7 race positions accurately out of 21 for race position 2 for 2019 season\n",
      "The model predicted 3 race positions accurately out of 21 for race position 3 for 2019 season\n"
     ]
    }
   ],
   "source": [
    "# Number of races\n",
    "\n",
    "positions = [1,2,3]\n",
    "\n",
    "for i in positions:\n",
    "    x = len(df_test2.loc[(df_test1[\"Prediction\"] == i) & (df_test1[\"Actual\"] == i)])\n",
    "    y = len(df_test2.loc[df_test1[\"Actual\"] == i])\n",
    "    print(f\"The model predicted {x} race positions accurately out of {y} for race position {i} for 2019 season\")"
   ]
  },
  {
   "cell_type": "markdown",
   "metadata": {},
   "source": [
    "## Random Forrest - multi class"
   ]
  },
  {
   "cell_type": "code",
   "execution_count": 24,
   "metadata": {},
   "outputs": [],
   "source": [
    "from sklearn.ensemble import RandomForestClassifier"
   ]
  },
  {
   "cell_type": "code",
   "execution_count": 25,
   "metadata": {},
   "outputs": [],
   "source": [
    "# Create a random forest classifier.\n",
    "##rf_model = RandomForestClassifier(n_estimators=128, random_state=78) \n",
    "rf_model = RandomForestClassifier(n_estimators = 10, criterion = 'entropy', random_state = 42)"
   ]
  },
  {
   "cell_type": "code",
   "execution_count": 26,
   "metadata": {},
   "outputs": [],
   "source": [
    "# Fitting the model\n",
    "rf_model = rf_model.fit(X_train_scaled, y_train)"
   ]
  },
  {
   "cell_type": "code",
   "execution_count": 27,
   "metadata": {},
   "outputs": [],
   "source": [
    "# Making predictions using the testing data.\n",
    "predictions = rf_model.predict(X_test_scaled)\n",
    "Z2 = pd.DataFrame({\"Prediction\": predictions, \"Actual\": y_test})"
   ]
  },
  {
   "cell_type": "code",
   "execution_count": 28,
   "metadata": {},
   "outputs": [
    {
     "data": {
      "text/plain": [
       "0.14523809523809525"
      ]
     },
     "execution_count": 28,
     "metadata": {},
     "output_type": "execute_result"
    }
   ],
   "source": [
    "# Calculating the accuracy score.\n",
    "acc_score = accuracy_score(y_test, predictions)\n",
    "acc_score"
   ]
  },
  {
   "cell_type": "code",
   "execution_count": 29,
   "metadata": {},
   "outputs": [],
   "source": [
    "# Merging the Z dataframe and df_test datframe \n",
    "df_test3 = pd.merge(df_test, Z2, left_index=True, right_index=True, how='outer')"
   ]
  },
  {
   "cell_type": "code",
   "execution_count": 30,
   "metadata": {},
   "outputs": [
    {
     "name": "stdout",
     "output_type": "stream",
     "text": [
      "The model predicted 15 race positions accurately out of 21 for race position 1 for 2019 season\n",
      "The model predicted 7 race positions accurately out of 21 for race position 2 for 2019 season\n",
      "The model predicted 3 race positions accurately out of 21 for race position 3 for 2019 season\n"
     ]
    }
   ],
   "source": [
    "# Number of races\n",
    "\n",
    "positions = [1,2,3]\n",
    "\n",
    "for i in positions:\n",
    "    x = len(df_test3.loc[(df_test1[\"Prediction\"] == i) & (df_test1[\"Actual\"] == i)])\n",
    "    y = len(df_test3.loc[df_test1[\"Actual\"] == i])\n",
    "    print(f\"The model predicted {x} race positions accurately out of {y} for race position {i} for 2019 season\")"
   ]
  },
  {
   "cell_type": "code",
   "execution_count": 31,
   "metadata": {},
   "outputs": [
    {
     "data": {
      "text/plain": [
       "[(0.23947617727936282, 'circuitId'),\n",
       " (0.2350281650040956, 'firstlap_position'),\n",
       " (0.2155385919357343, 'starting_position'),\n",
       " (0.17481675553160927, 'driverId'),\n",
       " (0.135140310249198, 'constructorId')]"
      ]
     },
     "execution_count": 31,
     "metadata": {},
     "output_type": "execute_result"
    }
   ],
   "source": [
    "importances = rf_model.feature_importances_\n",
    "# We can sort the features by their importance.\n",
    "sorted(zip(rf_model.feature_importances_, X_train.columns), reverse=True)"
   ]
  },
  {
   "cell_type": "markdown",
   "metadata": {},
   "source": [
    "## XGBoost"
   ]
  },
  {
   "cell_type": "code",
   "execution_count": 32,
   "metadata": {},
   "outputs": [],
   "source": [
    "#from numpy import mean\n",
    "#from numpy import std\n",
    "#from sklearn.datasets import make_classification\n",
    "#from sklearn.model_selection import cross_val_score\n",
    "#from sklearn.model_selection import RepeatedStratifiedKFold\n",
    "#from xgboost import XGBRFClassifier\n",
    "\n",
    "# define the model\n",
    "#model2 = XGBRFClassifier(n_estimators=100, subsample=0.9, colsample_bynode=0.2)\n",
    "# define the model evaluation procedure\n",
    "#cv = RepeatedStratifiedKFold(n_splits=9, n_repeats=3, random_state=1)\n",
    "# evaluate the model and collect the scores\n",
    "#n_scores = cross_val_score(model2, X_train_scaled, y_train, scoring='accuracy', cv=cv, n_jobs=-1)\n",
    "# report performance\n",
    "#print('Mean Accuracy: %.3f (%.3f)' % (mean(n_scores), std(n_scores)))"
   ]
  },
  {
   "cell_type": "code",
   "execution_count": null,
   "metadata": {},
   "outputs": [],
   "source": []
  }
 ],
 "metadata": {
  "kernelspec": {
   "display_name": "mlenv",
   "language": "python",
   "name": "mlenv"
  },
  "language_info": {
   "codemirror_mode": {
    "name": "ipython",
    "version": 3
   },
   "file_extension": ".py",
   "mimetype": "text/x-python",
   "name": "python",
   "nbconvert_exporter": "python",
   "pygments_lexer": "ipython3",
   "version": "3.7.10"
  }
 },
 "nbformat": 4,
 "nbformat_minor": 4
}

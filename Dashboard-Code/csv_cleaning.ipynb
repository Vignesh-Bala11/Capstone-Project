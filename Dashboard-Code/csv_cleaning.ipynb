{
 "cells": [
  {
   "cell_type": "code",
   "execution_count": 2,
   "source": [
    "import pandas as pd "
   ],
   "outputs": [],
   "metadata": {}
  },
  {
   "cell_type": "code",
   "execution_count": 7,
   "source": [
    "drivers = pd.read_csv(r'H:\\UoFT_Bootcamp\\Module_20\\Capstone-Project\\Resources\\Dataset\\drivers.csv')\r\n",
    "circuits = pd.read_csv(r'H:\\UoFT_Bootcamp\\Module_20\\Capstone-Project\\Resources\\Dataset\\circuits.csv')\r\n",
    "constructor = pd.read_csv(r'H:\\UoFT_Bootcamp\\Module_20\\Capstone-Project\\Resources\\Dataset\\constructors.csv')"
   ],
   "outputs": [],
   "metadata": {}
  },
  {
   "cell_type": "code",
   "execution_count": 10,
   "source": [
    "drivers[\"full name\"] = drivers[['forename', 'surname']].apply(lambda x: ' '.join(x), axis=1)"
   ],
   "outputs": [],
   "metadata": {}
  },
  {
   "cell_type": "code",
   "execution_count": 15,
   "source": [
    "# Convert needed columns to series \r\n",
    "driver_name = drivers[\"full name\"]\r\n",
    "event = circuits['name']\r\n",
    "constructor_name = constructor['name']"
   ],
   "outputs": [],
   "metadata": {}
  },
  {
   "cell_type": "code",
   "execution_count": 16,
   "source": [
    "table = pd.concat([driver_name,event,constructor_name],axis=1)\r\n",
    "table.head()"
   ],
   "outputs": [
    {
     "output_type": "execute_result",
     "data": {
      "text/plain": [
       "           full name                            name        name\n",
       "0     Lewis Hamilton  Albert Park Grand Prix Circuit     McLaren\n",
       "1      Nick Heidfeld    Sepang International Circuit  BMW Sauber\n",
       "2       Nico Rosberg   Bahrain International Circuit    Williams\n",
       "3    Fernando Alonso  Circuit de Barcelona-Catalunya     Renault\n",
       "4  Heikki Kovalainen                   Istanbul Park  Toro Rosso"
      ],
      "text/html": [
       "<div>\n",
       "<style scoped>\n",
       "    .dataframe tbody tr th:only-of-type {\n",
       "        vertical-align: middle;\n",
       "    }\n",
       "\n",
       "    .dataframe tbody tr th {\n",
       "        vertical-align: top;\n",
       "    }\n",
       "\n",
       "    .dataframe thead th {\n",
       "        text-align: right;\n",
       "    }\n",
       "</style>\n",
       "<table border=\"1\" class=\"dataframe\">\n",
       "  <thead>\n",
       "    <tr style=\"text-align: right;\">\n",
       "      <th></th>\n",
       "      <th>full name</th>\n",
       "      <th>name</th>\n",
       "      <th>name</th>\n",
       "    </tr>\n",
       "  </thead>\n",
       "  <tbody>\n",
       "    <tr>\n",
       "      <th>0</th>\n",
       "      <td>Lewis Hamilton</td>\n",
       "      <td>Albert Park Grand Prix Circuit</td>\n",
       "      <td>McLaren</td>\n",
       "    </tr>\n",
       "    <tr>\n",
       "      <th>1</th>\n",
       "      <td>Nick Heidfeld</td>\n",
       "      <td>Sepang International Circuit</td>\n",
       "      <td>BMW Sauber</td>\n",
       "    </tr>\n",
       "    <tr>\n",
       "      <th>2</th>\n",
       "      <td>Nico Rosberg</td>\n",
       "      <td>Bahrain International Circuit</td>\n",
       "      <td>Williams</td>\n",
       "    </tr>\n",
       "    <tr>\n",
       "      <th>3</th>\n",
       "      <td>Fernando Alonso</td>\n",
       "      <td>Circuit de Barcelona-Catalunya</td>\n",
       "      <td>Renault</td>\n",
       "    </tr>\n",
       "    <tr>\n",
       "      <th>4</th>\n",
       "      <td>Heikki Kovalainen</td>\n",
       "      <td>Istanbul Park</td>\n",
       "      <td>Toro Rosso</td>\n",
       "    </tr>\n",
       "  </tbody>\n",
       "</table>\n",
       "</div>"
      ]
     },
     "metadata": {},
     "execution_count": 16
    }
   ],
   "metadata": {}
  },
  {
   "cell_type": "code",
   "execution_count": 17,
   "source": [
    "table.to_csv(r'H:\\UoFT_Bootcamp\\Module_20\\Capstone-Project\\Dashboard-Code\\table.csv')"
   ],
   "outputs": [],
   "metadata": {}
  },
  {
   "cell_type": "code",
   "execution_count": null,
   "source": [],
   "outputs": [],
   "metadata": {}
  }
 ],
 "metadata": {
  "orig_nbformat": 4,
  "language_info": {
   "name": "python",
   "version": "3.6.12",
   "mimetype": "text/x-python",
   "codemirror_mode": {
    "name": "ipython",
    "version": 3
   },
   "pygments_lexer": "ipython3",
   "nbconvert_exporter": "python",
   "file_extension": ".py"
  },
  "kernelspec": {
   "name": "python3",
   "display_name": "Python 3.6.12 64-bit ('tensor': conda)"
  },
  "interpreter": {
   "hash": "8ca197fe71eeeab4d7a8104f869aa036b8af43b4f4295fe193db5ba78060bb9e"
  }
 },
 "nbformat": 4,
 "nbformat_minor": 2
}
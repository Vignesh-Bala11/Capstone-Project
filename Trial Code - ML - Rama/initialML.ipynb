{
 "cells": [
  {
   "cell_type": "code",
   "execution_count": 1,
   "id": "98af3131",
   "metadata": {},
   "outputs": [
    {
     "ename": "ModuleNotFoundError",
     "evalue": "No module named 'config'",
     "output_type": "error",
     "traceback": [
      "\u001b[1;31m---------------------------------------------------------------------------\u001b[0m",
      "\u001b[1;31mModuleNotFoundError\u001b[0m                       Traceback (most recent call last)",
      "\u001b[1;32m<ipython-input-1-9fc84f18f5ab>\u001b[0m in \u001b[0;36m<module>\u001b[1;34m\u001b[0m\n\u001b[0;32m      1\u001b[0m \u001b[1;32mimport\u001b[0m \u001b[0mpandas\u001b[0m \u001b[1;32mas\u001b[0m \u001b[0mpd\u001b[0m\u001b[1;33m\u001b[0m\u001b[1;33m\u001b[0m\u001b[0m\n\u001b[0;32m      2\u001b[0m \u001b[1;32mimport\u001b[0m \u001b[0mpsycopg2\u001b[0m\u001b[1;33m\u001b[0m\u001b[1;33m\u001b[0m\u001b[0m\n\u001b[1;32m----> 3\u001b[1;33m \u001b[1;32mfrom\u001b[0m \u001b[0mconfig\u001b[0m \u001b[1;32mimport\u001b[0m \u001b[1;33m*\u001b[0m\u001b[1;33m\u001b[0m\u001b[1;33m\u001b[0m\u001b[0m\n\u001b[0m",
      "\u001b[1;31mModuleNotFoundError\u001b[0m: No module named 'config'"
     ]
    }
   ],
   "source": [
    "import pandas as pd\n",
    "import psycopg2\n",
    "from config import *"
   ]
  },
  {
   "cell_type": "code",
   "execution_count": null,
   "id": "74e452b5",
   "metadata": {},
   "outputs": [],
   "source": [
    "conn = psycopg2.connect(\n",
    "   database=DATABASE, user=USER, password=PASSWORD, host=HOST, port= PORT\n",
    ")"
   ]
  },
  {
   "cell_type": "code",
   "execution_count": null,
   "id": "def7baa6",
   "metadata": {},
   "outputs": [],
   "source": [
    "cursor = conn.cursor()"
   ]
  },
  {
   "cell_type": "code",
   "execution_count": null,
   "id": "0aa32eef",
   "metadata": {},
   "outputs": [],
   "source": [
    "cursor.execute(\"Select * FROM races LIMIT 0\")\n",
    "colnames = [desc[0] for desc in cursor.description]\n",
    "colnames"
   ]
  },
  {
   "cell_type": "code",
   "execution_count": null,
   "id": "614ef90d",
   "metadata": {},
   "outputs": [],
   "source": [
    "cursor.execute(\"SELECT * FROM races\")\n",
    "data = cursor.fetchall()\n",
    "race_df = pd.DataFrame(data, columns=colnames)\n",
    "race_df.head()"
   ]
  },
  {
   "cell_type": "code",
   "execution_count": null,
   "id": "6434b625",
   "metadata": {},
   "outputs": [],
   "source": [
    "race_df = race_df[race_df['year']>=1990]\n",
    "race_df.shape"
   ]
  },
  {
   "cell_type": "code",
   "execution_count": null,
   "id": "c53262fc",
   "metadata": {},
   "outputs": [],
   "source": [
    "race_df = race_df.groupby(\"circuitId\").filter(lambda x: len(x) > 9)\n",
    "race_df.shape"
   ]
  },
  {
   "cell_type": "code",
   "execution_count": null,
   "id": "7aae6a23",
   "metadata": {
    "scrolled": true
   },
   "outputs": [],
   "source": [
    "# file_path = \"../Resources/PythonExport/races_modern_high_freq.csv\"\n",
    "# race_df = pd.read_csv(file_path)\n",
    "# race_df.head()"
   ]
  },
  {
   "cell_type": "code",
   "execution_count": null,
   "id": "363fee1f",
   "metadata": {},
   "outputs": [],
   "source": [
    "cursor.execute(\"Select * FROM results LIMIT 0\")\n",
    "colnames = [desc[0] for desc in cursor.description]\n",
    "colnames"
   ]
  },
  {
   "cell_type": "code",
   "execution_count": null,
   "id": "12b47144",
   "metadata": {},
   "outputs": [],
   "source": [
    "cursor.execute(\"SELECT * FROM results\")\n",
    "data = cursor.fetchall()\n",
    "results_df = pd.DataFrame(data, columns=colnames)\n",
    "results_df.head()"
   ]
  },
  {
   "cell_type": "code",
   "execution_count": null,
   "id": "a02900a1",
   "metadata": {},
   "outputs": [],
   "source": [
    "# file_path = \"../Resources/Dataset/results.csv\"\n",
    "# results_df = pd.read_csv(file_path)\n",
    "# results_df.head()"
   ]
  },
  {
   "cell_type": "code",
   "execution_count": null,
   "id": "11568019",
   "metadata": {},
   "outputs": [],
   "source": [
    "raceresults_df = results_df.merge(race_df,left_on='raceId',right_on='raceId',how='left')"
   ]
  },
  {
   "cell_type": "code",
   "execution_count": null,
   "id": "d9c683c1",
   "metadata": {},
   "outputs": [],
   "source": [
    "raceresults_df = raceresults_df.dropna().reset_index()"
   ]
  },
  {
   "cell_type": "code",
   "execution_count": null,
   "id": "3173418b",
   "metadata": {},
   "outputs": [],
   "source": [
    "raceresults_df.head()"
   ]
  },
  {
   "cell_type": "code",
   "execution_count": null,
   "id": "45b16581",
   "metadata": {},
   "outputs": [],
   "source": [
    "raceresults_df.drop(columns=['url','time_y','date','round','round','positionOrder','positionText','position','grid','number','points','laps','time_x','milliseconds','fastestLap','fastestLapSpeed','rank','fastestLapTime'],inplace=True)"
   ]
  },
  {
   "cell_type": "code",
   "execution_count": null,
   "id": "4f8c665c",
   "metadata": {},
   "outputs": [],
   "source": [
    "raceresults_df.head()"
   ]
  },
  {
   "cell_type": "code",
   "execution_count": null,
   "id": "04053042",
   "metadata": {},
   "outputs": [],
   "source": [
    "from sklearn.cluster import KMeans"
   ]
  },
  {
   "cell_type": "code",
   "execution_count": null,
   "id": "5551a4a5",
   "metadata": {},
   "outputs": [],
   "source": [
    "km = KMeans(n_clusters=3)\n",
    "y_predicted = km.fit_predict(raceresults_df[['statusId','constructorId','circuitId']])\n",
    "y_predicted"
   ]
  },
  {
   "cell_type": "code",
   "execution_count": null,
   "id": "a8746aed",
   "metadata": {},
   "outputs": [],
   "source": [
    "raceresults_df['cluster'] = y_predicted\n",
    "raceresults_df"
   ]
  },
  {
   "cell_type": "code",
   "execution_count": null,
   "id": "dcda372b",
   "metadata": {},
   "outputs": [],
   "source": [
    "import plotly.express as px\n"
   ]
  },
  {
   "cell_type": "code",
   "execution_count": null,
   "id": "c3a5e443",
   "metadata": {},
   "outputs": [],
   "source": [
    "fig = px.scatter_3d(\n",
    "    raceresults_df,\n",
    "    x=\"statusId\",\n",
    "    y=\"constructorId\",\n",
    "    z=\"circuitId\",\n",
    "    color=\"cluster\",\n",
    "    symbol=\"cluster\",\n",
    "    width=800,\n",
    "#     hover_name=\"CoinName\",\n",
    "#     hover_data=[\"Algorithm\"],\n",
    ")\n",
    "fig.update_layout(legend=dict(x=0, y=1))\n",
    "fig.show()"
   ]
  },
  {
   "cell_type": "code",
   "execution_count": null,
   "id": "dce76296",
   "metadata": {},
   "outputs": [],
   "source": [
    "import hvplot.pandas"
   ]
  },
  {
   "cell_type": "code",
   "execution_count": null,
   "id": "0b274b7b",
   "metadata": {},
   "outputs": [],
   "source": [
    "raceresults_df.hvplot.scatter(x=\"statusId\", y=\"constructorId\", by=\"cluster\")\n"
   ]
  },
  {
   "cell_type": "code",
   "execution_count": null,
   "id": "b55782a7",
   "metadata": {},
   "outputs": [],
   "source": [
    "import plotly.figure_factory as ff"
   ]
  },
  {
   "cell_type": "code",
   "execution_count": null,
   "id": "4a1ccd63",
   "metadata": {},
   "outputs": [],
   "source": [
    "fig = ff.create_dendrogram(raceresults_df[['statusId','constructorId','circuitId']], color_threshold=10)\n",
    "fig.update_layout(width=800, height=500)\n",
    "fig.show()"
   ]
  },
  {
   "cell_type": "code",
   "execution_count": null,
   "id": "b3f07e01",
   "metadata": {},
   "outputs": [],
   "source": [
    "from sklearn.cluster import AgglomerativeClustering\n",
    "\n",
    "agg = AgglomerativeClustering(n_clusters=3)\n",
    "model = agg.fit(raceresults_df[['statusId','constructorId','circuitId']])"
   ]
  },
  {
   "cell_type": "code",
   "execution_count": null,
   "id": "fbfe78cb",
   "metadata": {},
   "outputs": [],
   "source": [
    "raceresults_df['class']=model.labels_\n",
    "raceresults_df.head()"
   ]
  },
  {
   "cell_type": "code",
   "execution_count": null,
   "id": "594040a0",
   "metadata": {},
   "outputs": [],
   "source": [
    "raceresults_df.hvplot.scatter(x=\"statusId\", y=\"constructorId\",by='class')"
   ]
  }
 ],
 "metadata": {
  "kernelspec": {
   "display_name": "PyCharm (pycharm)",
   "language": "python",
   "name": "pycharm-e72d1320"
  },
  "language_info": {
   "codemirror_mode": {
    "name": "ipython",
    "version": 3
   },
   "file_extension": ".py",
   "mimetype": "text/x-python",
   "name": "python",
   "nbconvert_exporter": "python",
   "pygments_lexer": "ipython3",
   "version": "3.8.5"
  },
  "toc": {
   "base_numbering": 1,
   "nav_menu": {},
   "number_sections": true,
   "sideBar": true,
   "skip_h1_title": false,
   "title_cell": "Table of Contents",
   "title_sidebar": "Contents",
   "toc_cell": false,
   "toc_position": {},
   "toc_section_display": true,
   "toc_window_display": false
  }
 },
 "nbformat": 4,
 "nbformat_minor": 5
}

{
 "cells": [
  {
   "cell_type": "markdown",
   "id": "d7214478",
   "metadata": {},
   "source": [
    "# Exploratory Analysis - 6"
   ]
  },
  {
   "cell_type": "markdown",
   "id": "587b9e3a",
   "metadata": {},
   "source": [
    "#### This analysis is to explore if there is a trend on racer's starting position and winning position."
   ]
  },
  {
   "cell_type": "code",
   "execution_count": 1,
   "id": "5a196ca1",
   "metadata": {},
   "outputs": [],
   "source": [
    "%matplotlib inline\n",
    "import pandas as pd\n",
    "import matplotlib.pyplot as plt\n",
    "import re\n",
    "import numpy as np"
   ]
  },
  {
   "cell_type": "code",
   "execution_count": 2,
   "id": "618d612a",
   "metadata": {},
   "outputs": [],
   "source": [
    "#Load files for analysis\n",
    "results_df = pd.read_csv('../Resources/Dataset/results.csv')\n",
    "circuits_df = pd.read_csv('../Resources/Dataset/circuits.csv')\n",
    "constructor_results_df = pd.read_csv('../Resources/Dataset/constructor_results.csv')\n",
    "constructors_df = pd.read_csv('../Resources/Dataset/constructors.csv')\n",
    "drivers_df = pd.read_csv('../Resources/Dataset/drivers.csv')\n",
    "races_df = pd.read_csv('../Resources/Dataset/races.csv')\n",
    "status_df = pd.read_csv('../Resources/Dataset/status.csv')"
   ]
  },
  {
   "cell_type": "markdown",
   "id": "74520f4d",
   "metadata": {},
   "source": [
    "### Merging datasets"
   ]
  },
  {
   "cell_type": "code",
   "execution_count": 3,
   "id": "f5f8c7b6",
   "metadata": {},
   "outputs": [],
   "source": [
    "# Joining datasets\n",
    "\n",
    "#join results with drivers datasets\n",
    "res_dr_df = pd.merge(results_df,drivers_df,how='left',on='driverId', suffixes=('_res','_drv'))\n",
    "\n",
    "#join status dataset\n",
    "res_dr_df_st = pd.merge(res_dr_df, status_df, how='left', on='statusId', suffixes=('_mer1', 'st'))\n",
    "\n",
    "#join races with results\n",
    "res_dr_ra_df = pd.merge(res_dr_df_st,races_df,how='left',on='raceId', suffixes=('_mer2','_rac'))\n",
    "\n",
    "#join circuit dataset\n",
    "res_dr_ra_cir_df = pd.merge(res_dr_ra_df,circuits_df,how='left', on='circuitId', suffixes=('_mer3','_cir'))\n",
    "\n",
    "#join the above with constructor data\n",
    "merged_df = pd.merge(res_dr_ra_cir_df,constructors_df,how='left',on='constructorId', suffixes=('_mer4','_con'))"
   ]
  },
  {
   "cell_type": "code",
   "execution_count": 4,
   "id": "bb8772ff",
   "metadata": {},
   "outputs": [],
   "source": [
    "#Drop columns that are not necessary\n",
    "merged_df = merged_df.drop(columns=['number_res','points','laps','fastestLap','rank','round',\\\n",
    "                                    'statusId','number_drv','code','url_mer2','url_rac','url_mer4',\\\n",
    "                                    'url_con','time_rac'])"
   ]
  },
  {
   "cell_type": "code",
   "execution_count": 5,
   "id": "5b08fec9",
   "metadata": {},
   "outputs": [],
   "source": [
    "merged_df['position'] = merged_df['position'].replace({'\\\\N':0})\n",
    "merged_df['position'] = pd.to_numeric(merged_df['position'])"
   ]
  },
  {
   "cell_type": "code",
   "execution_count": 6,
   "id": "8f3f9ccc",
   "metadata": {
    "scrolled": true
   },
   "outputs": [
    {
     "name": "stderr",
     "output_type": "stream",
     "text": [
      "C:\\Users\\User\\anaconda3\\envs\\mlenv\\lib\\site-packages\\ipykernel_launcher.py:1: FutureWarning: The default value of regex will change from True to False in a future version.\n",
      "  \"\"\"Entry point for launching an IPython kernel.\n"
     ]
    }
   ],
   "source": [
    "merged_df['status'] = merged_df.status.str.replace(\"\\+\\d\\s\\w*|\\+\\d\\d\\s\\w*\", 'Finished')"
   ]
  },
  {
   "cell_type": "markdown",
   "id": "b023721d",
   "metadata": {},
   "source": [
    "### Grid Position vs Winning Position"
   ]
  },
  {
   "cell_type": "markdown",
   "id": "70dc21ed",
   "metadata": {},
   "source": [
    "#### 2000 to 2009"
   ]
  },
  {
   "cell_type": "code",
   "execution_count": 7,
   "id": "21fe0cd6",
   "metadata": {},
   "outputs": [],
   "source": [
    "races_filtered = merged_df.loc[(merged_df['year'] >= 2000) & (merged_df['year'] < 2010) & (merged_df['position'] == 1)]"
   ]
  },
  {
   "cell_type": "code",
   "execution_count": 8,
   "id": "866534d1",
   "metadata": {
    "scrolled": false
   },
   "outputs": [],
   "source": [
    "grid_numbers = races_filtered.groupby(['grid'])['grid'].count().reset_index(name='count')"
   ]
  },
  {
   "cell_type": "code",
   "execution_count": 9,
   "id": "86a49852",
   "metadata": {},
   "outputs": [],
   "source": [
    "x_axis = grid_numbers['grid']"
   ]
  },
  {
   "cell_type": "code",
   "execution_count": 10,
   "id": "2429313c",
   "metadata": {},
   "outputs": [],
   "source": [
    "y_axis = grid_numbers['count']"
   ]
  },
  {
   "cell_type": "code",
   "execution_count": 11,
   "id": "b1d56a53",
   "metadata": {
    "scrolled": false
   },
   "outputs": [
    {
     "data": {
      "text/plain": [
       "<Figure size 432x288 with 0 Axes>"
      ]
     },
     "metadata": {},
     "output_type": "display_data"
    },
    {
     "data": {
      "image/png": "[encoded data removed]",
      "text/plain": [
       "<Figure size 1152x432 with 1 Axes>"
      ]
     },
     "metadata": {
      "needs_background": "light"
     },
     "output_type": "display_data"
    }
   ],
   "source": [
    "# Plot both axis\n",
    "fig = plt.figure()\n",
    "plt.figure(figsize=(16,6))\n",
    "plt.bar(x_axis, y_axis)\n",
    "plt.title('Grid Position vs Winners')\n",
    "plt.xlabel(\"Grid Position\")\n",
    "plt.xticks(x_axis)\n",
    "plt.ylabel(\"Number of races won\");"
   ]
  },
  {
   "cell_type": "markdown",
   "id": "333284cc",
   "metadata": {},
   "source": [
    "#### 2010 to 2019"
   ]
  },
  {
   "cell_type": "code",
   "execution_count": 12,
   "id": "ddbca00f",
   "metadata": {},
   "outputs": [],
   "source": [
    "races_filtered = merged_df.loc[(merged_df['year'] >= 2010) & (merged_df['year'] < 2020) & (merged_df['position'] == 1)]"
   ]
  },
  {
   "cell_type": "code",
   "execution_count": 13,
   "id": "a8d0f857",
   "metadata": {
    "scrolled": false
   },
   "outputs": [],
   "source": [
    "grid_numbers = races_filtered.groupby(['grid'])['grid'].count().reset_index(name='count')"
   ]
  },
  {
   "cell_type": "code",
   "execution_count": 14,
   "id": "cde766c7",
   "metadata": {},
   "outputs": [],
   "source": [
    "x_axis = grid_numbers['grid']"
   ]
  },
  {
   "cell_type": "code",
   "execution_count": 15,
   "id": "56dbff60",
   "metadata": {},
   "outputs": [],
   "source": [
    "y_axis = grid_numbers['count']"
   ]
  },
  {
   "cell_type": "code",
   "execution_count": 16,
   "id": "b41e40d6",
   "metadata": {
    "scrolled": false
   },
   "outputs": [
    {
     "data": {
      "text/plain": [
       "<Figure size 432x288 with 0 Axes>"
      ]
     },
     "metadata": {},
     "output_type": "display_data"
    },
    {
     "data": {
      "image/png": "[encoded data removed]",
      "text/plain": [
       "<Figure size 1152x432 with 1 Axes>"
      ]
     },
     "metadata": {
      "needs_background": "light"
     },
     "output_type": "display_data"
    }
   ],
   "source": [
    "# Plot both axis\n",
    "fig = plt.figure()\n",
    "plt.figure(figsize=(16,6))\n",
    "plt.bar(x_axis, y_axis)\n",
    "plt.title('Grid Position vs Winners')\n",
    "plt.xlabel(\"Grid Position\")\n",
    "plt.xticks(x_axis)\n",
    "plt.ylabel(\"Number of races won\");"
   ]
  },
  {
   "cell_type": "markdown",
   "id": "8fe57181",
   "metadata": {},
   "source": [
    "### Conclusion: There is a maximal correlation between the starting position and the winning position. However, another caveat to this is that the starting position is decided based on the qualifying race where the grid positions are decided on the lap times, with the driver to set the fastest time qualifying on pole, i.e. 1st place. Here, a lot more factors come into consideration."
   ]
  },
  {
   "cell_type": "code",
   "execution_count": null,
   "id": "dee9fc16",
   "metadata": {},
   "outputs": [],
   "source": []
  }
 ],
 "metadata": {
  "kernelspec": {
   "display_name": "mlenv",
   "language": "python",
   "name": "mlenv"
  },
  "language_info": {
   "codemirror_mode": {
    "name": "ipython",
    "version": 3
   },
   "file_extension": ".py",
   "mimetype": "text/x-python",
   "name": "python",
   "nbconvert_exporter": "python",
   "pygments_lexer": "ipython3",
   "version": "3.7.10"
  }
 },
 "nbformat": 4,
 "nbformat_minor": 5
}

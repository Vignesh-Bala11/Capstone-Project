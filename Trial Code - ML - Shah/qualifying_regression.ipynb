{
 "cells": [
  {
   "cell_type": "code",
   "execution_count": 1,
   "metadata": {},
   "outputs": [],
   "source": [
    "import pandas as pd\n",
    "from pathlib import Path\n",
    "import matplotlib.pyplot as plt\n",
    "from sklearn.linear_model import LinearRegression"
   ]
  },
  {
   "cell_type": "code",
   "execution_count": 2,
   "metadata": {},
   "outputs": [
    {
     "data": {
      "text/html": [
       "<div>\n",
       "<style scoped>\n",
       "    .dataframe tbody tr th:only-of-type {\n",
       "        vertical-align: middle;\n",
       "    }\n",
       "\n",
       "    .dataframe tbody tr th {\n",
       "        vertical-align: top;\n",
       "    }\n",
       "\n",
       "    .dataframe thead th {\n",
       "        text-align: right;\n",
       "    }\n",
       "</style>\n",
       "<table border=\"1\" class=\"dataframe\">\n",
       "  <thead>\n",
       "    <tr style=\"text-align: right;\">\n",
       "      <th></th>\n",
       "      <th>delta</th>\n",
       "      <th>raceId</th>\n",
       "      <th>curcuit_id</th>\n",
       "      <th>driverId</th>\n",
       "      <th>constructorId</th>\n",
       "      <th>starting_position</th>\n",
       "      <th>train_test</th>\n",
       "      <th>resultId</th>\n",
       "    </tr>\n",
       "  </thead>\n",
       "  <tbody>\n",
       "    <tr>\n",
       "      <th>0</th>\n",
       "      <td>0</td>\n",
       "      <td>18</td>\n",
       "      <td>1</td>\n",
       "      <td>1</td>\n",
       "      <td>1</td>\n",
       "      <td>1</td>\n",
       "      <td>1</td>\n",
       "      <td>1</td>\n",
       "    </tr>\n",
       "    <tr>\n",
       "      <th>1</th>\n",
       "      <td>-3</td>\n",
       "      <td>18</td>\n",
       "      <td>1</td>\n",
       "      <td>2</td>\n",
       "      <td>2</td>\n",
       "      <td>5</td>\n",
       "      <td>1</td>\n",
       "      <td>2</td>\n",
       "    </tr>\n",
       "    <tr>\n",
       "      <th>2</th>\n",
       "      <td>-4</td>\n",
       "      <td>18</td>\n",
       "      <td>1</td>\n",
       "      <td>3</td>\n",
       "      <td>3</td>\n",
       "      <td>7</td>\n",
       "      <td>1</td>\n",
       "      <td>3</td>\n",
       "    </tr>\n",
       "    <tr>\n",
       "      <th>3</th>\n",
       "      <td>-7</td>\n",
       "      <td>18</td>\n",
       "      <td>1</td>\n",
       "      <td>4</td>\n",
       "      <td>4</td>\n",
       "      <td>11</td>\n",
       "      <td>1</td>\n",
       "      <td>4</td>\n",
       "    </tr>\n",
       "    <tr>\n",
       "      <th>4</th>\n",
       "      <td>2</td>\n",
       "      <td>18</td>\n",
       "      <td>1</td>\n",
       "      <td>5</td>\n",
       "      <td>1</td>\n",
       "      <td>3</td>\n",
       "      <td>1</td>\n",
       "      <td>5</td>\n",
       "    </tr>\n",
       "  </tbody>\n",
       "</table>\n",
       "</div>"
      ],
      "text/plain": [
       "   delta  raceId  curcuit_id  driverId  constructorId  starting_position  \\\n",
       "0      0      18           1         1              1                  1   \n",
       "1     -3      18           1         2              2                  5   \n",
       "2     -4      18           1         3              3                  7   \n",
       "3     -7      18           1         4              4                 11   \n",
       "4      2      18           1         5              1                  3   \n",
       "\n",
       "   train_test  resultId  \n",
       "0           1         1  \n",
       "1           1         2  \n",
       "2           1         3  \n",
       "3           1         4  \n",
       "4           1         5  "
      ]
     },
     "execution_count": 2,
     "metadata": {},
     "output_type": "execute_result"
    }
   ],
   "source": [
    "df = pd.read_csv(Path('/Users/shahkibria/Documents/Bootcamp/Module_17_Supervised_ML/qualifying_delta.csv'))\n",
    "df.head()"
   ]
  },
  {
   "cell_type": "code",
   "execution_count": 3,
   "metadata": {},
   "outputs": [],
   "source": [
    "df1 = df.drop(['raceId'], axis = 1)"
   ]
  },
  {
   "cell_type": "code",
   "execution_count": 4,
   "metadata": {},
   "outputs": [
    {
     "data": {
      "text/html": [
       "<div>\n",
       "<style scoped>\n",
       "    .dataframe tbody tr th:only-of-type {\n",
       "        vertical-align: middle;\n",
       "    }\n",
       "\n",
       "    .dataframe tbody tr th {\n",
       "        vertical-align: top;\n",
       "    }\n",
       "\n",
       "    .dataframe thead th {\n",
       "        text-align: right;\n",
       "    }\n",
       "</style>\n",
       "<table border=\"1\" class=\"dataframe\">\n",
       "  <thead>\n",
       "    <tr style=\"text-align: right;\">\n",
       "      <th></th>\n",
       "      <th>delta</th>\n",
       "      <th>curcuit_id</th>\n",
       "      <th>driverId</th>\n",
       "      <th>constructorId</th>\n",
       "      <th>starting_position</th>\n",
       "      <th>train_test</th>\n",
       "      <th>resultId</th>\n",
       "    </tr>\n",
       "  </thead>\n",
       "  <tbody>\n",
       "    <tr>\n",
       "      <th>0</th>\n",
       "      <td>0</td>\n",
       "      <td>1</td>\n",
       "      <td>1</td>\n",
       "      <td>1</td>\n",
       "      <td>1</td>\n",
       "      <td>1</td>\n",
       "      <td>1</td>\n",
       "    </tr>\n",
       "    <tr>\n",
       "      <th>1</th>\n",
       "      <td>-3</td>\n",
       "      <td>1</td>\n",
       "      <td>2</td>\n",
       "      <td>2</td>\n",
       "      <td>5</td>\n",
       "      <td>1</td>\n",
       "      <td>2</td>\n",
       "    </tr>\n",
       "    <tr>\n",
       "      <th>2</th>\n",
       "      <td>-4</td>\n",
       "      <td>1</td>\n",
       "      <td>3</td>\n",
       "      <td>3</td>\n",
       "      <td>7</td>\n",
       "      <td>1</td>\n",
       "      <td>3</td>\n",
       "    </tr>\n",
       "    <tr>\n",
       "      <th>3</th>\n",
       "      <td>-7</td>\n",
       "      <td>1</td>\n",
       "      <td>4</td>\n",
       "      <td>4</td>\n",
       "      <td>11</td>\n",
       "      <td>1</td>\n",
       "      <td>4</td>\n",
       "    </tr>\n",
       "    <tr>\n",
       "      <th>4</th>\n",
       "      <td>2</td>\n",
       "      <td>1</td>\n",
       "      <td>5</td>\n",
       "      <td>1</td>\n",
       "      <td>3</td>\n",
       "      <td>1</td>\n",
       "      <td>5</td>\n",
       "    </tr>\n",
       "  </tbody>\n",
       "</table>\n",
       "</div>"
      ],
      "text/plain": [
       "   delta  curcuit_id  driverId  constructorId  starting_position  train_test  \\\n",
       "0      0           1         1              1                  1           1   \n",
       "1     -3           1         2              2                  5           1   \n",
       "2     -4           1         3              3                  7           1   \n",
       "3     -7           1         4              4                 11           1   \n",
       "4      2           1         5              1                  3           1   \n",
       "\n",
       "   resultId  \n",
       "0         1  \n",
       "1         2  \n",
       "2         3  \n",
       "3         4  \n",
       "4         5  "
      ]
     },
     "execution_count": 4,
     "metadata": {},
     "output_type": "execute_result"
    }
   ],
   "source": [
    "df_train = df1.loc[(df1[\"train_test\"] == 1)]\n",
    "df_train.head()"
   ]
  },
  {
   "cell_type": "code",
   "execution_count": 5,
   "metadata": {},
   "outputs": [
    {
     "data": {
      "text/plain": [
       "LinearRegression()"
      ]
     },
     "execution_count": 5,
     "metadata": {},
     "output_type": "execute_result"
    }
   ],
   "source": [
    "y = df_train[\"delta\"]\n",
    "X = df_train[\"starting_position\"].values.reshape(-1, 1)\n",
    "model = LinearRegression()\n",
    "model.fit(X, y)"
   ]
  },
  {
   "cell_type": "code",
   "execution_count": 6,
   "metadata": {},
   "outputs": [
    {
     "name": "stdout",
     "output_type": "stream",
     "text": [
      "R2 Score: 0.5308320509038293\n",
      "Coeff: [-0.53302416]\n",
      "Intecept: 2.4356924650017078\n"
     ]
    }
   ],
   "source": [
    "score = model.score(X, y)\n",
    "coeff = model.coef_\n",
    "intercept = model.intercept_\n",
    "    \n",
    "print(f\"R2 Score: {score}\")\n",
    "print(f\"Coeff: {coeff}\")\n",
    "print(f\"Intecept: {intercept}\")"
   ]
  },
  {
   "cell_type": "code",
   "execution_count": 7,
   "metadata": {},
   "outputs": [
    {
     "name": "stdout",
     "output_type": "stream",
     "text": [
      "R2 Score: 0.5482161571543329\n",
      "Coeff: [-0.54820585  0.00200513  0.00357294 -0.02013556]\n",
      "Intecept: 2.37370221342759\n"
     ]
    }
   ],
   "source": [
    "y1 = df_train[\"delta\"]\n",
    "X1 = df_train[[\"starting_position\", \"driverId\", \"constructorId\", \"curcuit_id\"]]\n",
    "model1 = LinearRegression()\n",
    "model1.fit(X1, y1)\n",
    "score1 = model1.score(X1, y1)\n",
    "coeff1 = model1.coef_\n",
    "intercept1 = model1.intercept_\n",
    "    \n",
    "print(f\"R2 Score: {score1}\")\n",
    "print(f\"Coeff: {coeff1}\")\n",
    "print(f\"Intecept: {intercept1}\")"
   ]
  },
  {
   "cell_type": "code",
   "execution_count": 8,
   "metadata": {},
   "outputs": [
    {
     "name": "stdout",
     "output_type": "stream",
     "text": [
      "Circuit 1 R2 Score: 0.5774154440872643\n",
      "Circuit 1 Coeff: [-0.57735894  0.00270866  0.00543567]\n",
      "Circuit 1 Intecept: 2.1494729808363306\n",
      "Circuit 3 R2 Score: 0.31308200196187097\n",
      "Circuit 3 Coeff: [-3.65575105e-01  4.84013330e-04  1.53823067e-04]\n",
      "Circuit 3 Intecept: 2.310373139491609\n",
      "Circuit 17 R2 Score: 0.28239153029966924\n",
      "Circuit 17 Coeff: [-0.35527556  0.00131136  0.00745659]\n",
      "Circuit 17 Intecept: 1.9721010613679464\n",
      "Circuit 73 R2 Score: 0.5540812958720467\n",
      "Circuit 73 Coeff: [-4.11843450e-01  4.11276916e-04  1.66769814e-02]\n",
      "Circuit 73 Intecept: 0.4577047330624633\n",
      "Circuit 4 R2 Score: 0.47685601145722256\n",
      "Circuit 4 Coeff: [-0.41754758  0.00180591  0.01287056]\n",
      "Circuit 4 Intecept: 1.2340107348234075\n",
      "Circuit 6 R2 Score: 0.6308477209827482\n",
      "Circuit 6 Coeff: [-0.59657417  0.00101715  0.00081467]\n",
      "Circuit 6 Intecept: 1.8986602534174972\n",
      "Circuit 7 R2 Score: 0.6556746082728439\n",
      "Circuit 7 Coeff: [-0.62304081  0.00425783  0.01574333]\n",
      "Circuit 7 Intecept: 1.8556105737286837\n",
      "Circuit 34 R2 Score: 0.6407466460749927\n",
      "Circuit 34 Coeff: [-0.52659154  0.002776    0.0064584 ]\n",
      "Circuit 34 Intecept: 1.3789190181275597\n",
      "Circuit 70 R2 Score: 0.42113653686630326\n",
      "Circuit 70 Coeff: [-0.43662734  0.00116699  0.00171006]\n",
      "Circuit 70 Intecept: 1.6852185838478282\n",
      "Circuit 9 R2 Score: 0.5338364651127951\n",
      "Circuit 9 Coeff: [-0.53462258  0.00088327  0.00285784]\n",
      "Circuit 9 Intecept: 2.3868830550236173\n",
      "Circuit 10 R2 Score: 0.5662209575450493\n",
      "Circuit 10 Coeff: [-0.59111661  0.00369595  0.01343435]\n",
      "Circuit 10 Intecept: 2.038924961951876\n",
      "Circuit 11 R2 Score: 0.5546715727360972\n",
      "Circuit 11 Coeff: [-0.50145683  0.00308882  0.00980966]\n",
      "Circuit 11 Intecept: 1.9108208807243399\n",
      "Circuit 13 R2 Score: 0.527612180016449\n",
      "Circuit 13 Coeff: [-0.49813084  0.00111318  0.00203105]\n",
      "Circuit 13 Intecept: 1.5396649096313793\n",
      "Circuit 14 R2 Score: 0.5408655927269688\n",
      "Circuit 14 Coeff: [-5.52794991e-01  6.04150163e-04  2.42162772e-04]\n",
      "Circuit 14 Intecept: 2.2333983944151274\n",
      "Circuit 15 R2 Score: 0.3922631594516581\n",
      "Circuit 15 Coeff: [-0.44712979  0.00175921  0.00630923]\n",
      "Circuit 15 Intecept: 1.7670493509363259\n",
      "Circuit 71 R2 Score: 0.30352366084540083\n",
      "Circuit 71 Coeff: [-0.40678105  0.00209024  0.00078816]\n",
      "Circuit 71 Intecept: 1.7680847354723044\n",
      "Circuit 22 R2 Score: 0.5102842646001178\n",
      "Circuit 22 Coeff: [-0.5066006   0.00316247  0.01402085]\n",
      "Circuit 22 Intecept: 1.9006188060617975\n",
      "Circuit 32 R2 Score: 0.6109116960781193\n",
      "Circuit 32 Coeff: [-5.40013141e-01  2.98692001e-03 -2.37324047e-04]\n",
      "Circuit 32 Intecept: 1.3771561129296823\n",
      "Circuit 69 R2 Score: 0.38455011886294\n",
      "Circuit 69 Coeff: [-0.41502979  0.00184329  0.01490898]\n",
      "Circuit 69 Intecept: 0.9476311872865353\n",
      "Circuit 18 R2 Score: 0.5390972080723118\n",
      "Circuit 18 Coeff: [-0.53285865  0.00270548  0.01318375]\n",
      "Circuit 18 Intecept: 1.9043828406121817\n",
      "Circuit 24 R2 Score: 0.3045172999432545\n",
      "Circuit 24 Coeff: [-0.34977577  0.0017514   0.00559688]\n",
      "Circuit 24 Intecept: 1.501404727659934\n"
     ]
    }
   ],
   "source": [
    "Circuits = [1, 3, 17, 73, 4, 6, 7, 34, 70, 9, 10, 11, 13, 14, 15, 71, 22, 32, 69, 18, 24]\n",
    "\n",
    "for i in Circuits: \n",
    "    df_train = df1.loc[(df1[\"train_test\"] == 1) & (df1[\"curcuit_id\"] == i)]\n",
    "    y = df_train[\"delta\"]\n",
    "    X = df_train[[\"starting_position\", \"driverId\", \"constructorId\"]]\n",
    "    model = LinearRegression()\n",
    "    model.fit(X, y)\n",
    "    score = model.score(X, y)\n",
    "    coeff = model.coef_\n",
    "    intercept = model.intercept_\n",
    "    \n",
    "    print(f\"Circuit {i} R2 Score: {score}\")\n",
    "    print(f\"Circuit {i} Coeff: {coeff}\")\n",
    "    print(f\"Circuit {i} Intecept: {intercept}\")"
   ]
  },
  {
   "cell_type": "code",
   "execution_count": 9,
   "metadata": {},
   "outputs": [
    {
     "data": {
      "text/plain": [
       "0.5482161571543329"
      ]
     },
     "execution_count": 9,
     "metadata": {},
     "output_type": "execute_result"
    }
   ],
   "source": [
    "0.5482161571543329"
   ]
  },
  {
   "cell_type": "code",
   "execution_count": null,
   "metadata": {},
   "outputs": [],
   "source": []
  }
 ],
 "metadata": {
  "kernelspec": {
   "display_name": "mlenv",
   "language": "python",
   "name": "mlenv"
  },
  "language_info": {
   "codemirror_mode": {
    "name": "ipython",
    "version": 3
   },
   "file_extension": ".py",
   "mimetype": "text/x-python",
   "name": "python",
   "nbconvert_exporter": "python",
   "pygments_lexer": "ipython3",
   "version": "3.7.10"
  }
 },
 "nbformat": 4,
 "nbformat_minor": 4
}
